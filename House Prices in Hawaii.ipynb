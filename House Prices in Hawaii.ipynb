{
 "cells": [
  {
   "cell_type": "markdown",
   "metadata": {},
   "source": [
    "# What Does the Housing Market in Hawaii Look Like in 2020?\n",
    "_Author: Zeth De Luna &mdash; September 21, 2020_\n",
    "\n",
    "Hawaii is known for its beautiful culture, delicious food, and that feeling of paradise anywhere you go in the islands. It's no wonder why people are looking to Hawaii when they're trying to escape the hustle and bustle of the typical American city. If you're in the market to buy a home in Hawaii, hopefully this article will give you a little more insight into the prices and what the average house looks like in your price range.\n",
    "\n",
    "We're going to analyze data on housing in Hawaii that I scraped from [Zillow.com](https://www.zillow.com/), a popular American online real estate marketplace that allows consumers to explore their potential new home with the help of pictures, current market prices, rooms, square-footage, and more. The data (available in [my repository](https://github.com/zethdeluna/Hawaii-Housing-Market-2020)) contains information on Zillow listings in Hawaii that were available on September 21st of 2020. We're going to use this data to train and test various regression models to predict the price of a house given its features (number of bedrooms/bathrooms, square-footage, location).\n",
    "\n",
    "__Results:__ We were able to train a model that predicts the price of a property in Hawaii with an $R^2$ value around 0.75 using housing features including: type (Condo, House, Studio, or Townhouse), square-footage, number of bedrooms/bathrooms, and location (street, city, and zipcode).\n",
    "\n",
    "#### Import Libraries"
   ]
  },
  {
   "cell_type": "code",
   "execution_count": 1,
   "metadata": {},
   "outputs": [
    {
     "name": "stderr",
     "output_type": "stream",
     "text": [
      "/Library/Frameworks/Python.framework/Versions/3.7/lib/python3.7/site-packages/statsmodels/tools/_testing.py:19: FutureWarning: pandas.util.testing is deprecated. Use the functions in the public API at pandas.testing instead.\n",
      "  import pandas.util.testing as tm\n"
     ]
    }
   ],
   "source": [
    "import pandas as pd\n",
    "import numpy as np\n",
    "\n",
    "# sci-kit learn libraries\n",
    "from sklearn.preprocessing import MinMaxScaler, StandardScaler, RobustScaler, Normalizer, LabelEncoder\n",
    "from sklearn.model_selection import train_test_split\n",
    "from sklearn.linear_model import LinearRegression, LogisticRegression\n",
    "from sklearn.ensemble import BaggingRegressor, RandomForestRegressor, AdaBoostRegressor, GradientBoostingRegressor\n",
    "from sklearn.tree import DecisionTreeRegressor\n",
    "from sklearn.metrics import r2_score\n",
    "\n",
    "# visualization libraries\n",
    "import matplotlib.pyplot as plt\n",
    "import seaborn as sns\n",
    "\n",
    "# laker colors\n",
    "purple = (85/255, 37/255, 130/255)\n",
    "gold = (253/255, 185/255, 39/255)\n",
    "blue = (121/255, 163/255, 220/255)\n",
    "lakers = [purple, gold, blue]\n",
    "%matplotlib inline"
   ]
  },
  {
   "cell_type": "markdown",
   "metadata": {},
   "source": [
    "## Read in the Data"
   ]
  },
  {
   "cell_type": "code",
   "execution_count": 2,
   "metadata": {
    "scrolled": true
   },
   "outputs": [
    {
     "data": {
      "text/html": [
       "<div>\n",
       "<style scoped>\n",
       "    .dataframe tbody tr th:only-of-type {\n",
       "        vertical-align: middle;\n",
       "    }\n",
       "\n",
       "    .dataframe tbody tr th {\n",
       "        vertical-align: top;\n",
       "    }\n",
       "\n",
       "    .dataframe thead th {\n",
       "        text-align: right;\n",
       "    }\n",
       "</style>\n",
       "<table border=\"1\" class=\"dataframe\">\n",
       "  <thead>\n",
       "    <tr style=\"text-align: right;\">\n",
       "      <th></th>\n",
       "      <th>address</th>\n",
       "      <th>url</th>\n",
       "      <th>type</th>\n",
       "      <th>price</th>\n",
       "      <th>bedrooms</th>\n",
       "      <th>bathrooms</th>\n",
       "      <th>sqft</th>\n",
       "    </tr>\n",
       "  </thead>\n",
       "  <tbody>\n",
       "    <tr>\n",
       "      <th>0</th>\n",
       "      <td>1221 Victoria St APT 1101, Honolulu, HI 96814</td>\n",
       "      <td>https://www.zillow.com/homedetails/1221-Victor...</td>\n",
       "      <td>Condo for sale</td>\n",
       "      <td>$199,000.00</td>\n",
       "      <td>2 bds</td>\n",
       "      <td>2 ba</td>\n",
       "      <td>1,692 sqft</td>\n",
       "    </tr>\n",
       "    <tr>\n",
       "      <th>1</th>\n",
       "      <td>4999 Kahala Ave APT 265, Honolulu, HI 96816</td>\n",
       "      <td>https://www.zillow.com/homedetails/4999-Kahala...</td>\n",
       "      <td>Condo for sale</td>\n",
       "      <td>$39,900.00</td>\n",
       "      <td>2 bds</td>\n",
       "      <td>2 ba</td>\n",
       "      <td>1,258 sqft</td>\n",
       "    </tr>\n",
       "    <tr>\n",
       "      <th>2</th>\n",
       "      <td>5621 Kalanianaole Hwy, Honolulu, HI 96821</td>\n",
       "      <td>https://www.zillow.com/homedetails/5621-Kalani...</td>\n",
       "      <td>House for sale</td>\n",
       "      <td>$6,995,000.00</td>\n",
       "      <td>7 bds</td>\n",
       "      <td>6 ba</td>\n",
       "      <td>6,689 sqft</td>\n",
       "    </tr>\n",
       "    <tr>\n",
       "      <th>3</th>\n",
       "      <td>1007 Koko Kai Pl, Honolulu, HI 96825</td>\n",
       "      <td>https://www.zillow.com/homedetails/1007-Koko-K...</td>\n",
       "      <td>House for sale</td>\n",
       "      <td>$2,400,000.00</td>\n",
       "      <td>4 bds</td>\n",
       "      <td>4 ba</td>\n",
       "      <td>3,400 sqft</td>\n",
       "    </tr>\n",
       "    <tr>\n",
       "      <th>4</th>\n",
       "      <td>1221 Victoria St APT 2404, Honolulu, HI 96814</td>\n",
       "      <td>https://www.zillow.com/homedetails/1221-Victor...</td>\n",
       "      <td>Condo for sale</td>\n",
       "      <td>$265,000.00</td>\n",
       "      <td>2 bds</td>\n",
       "      <td>3 ba</td>\n",
       "      <td>1,586 sqft</td>\n",
       "    </tr>\n",
       "  </tbody>\n",
       "</table>\n",
       "</div>"
      ],
      "text/plain": [
       "                                         address  \\\n",
       "0  1221 Victoria St APT 1101, Honolulu, HI 96814   \n",
       "1    4999 Kahala Ave APT 265, Honolulu, HI 96816   \n",
       "2      5621 Kalanianaole Hwy, Honolulu, HI 96821   \n",
       "3           1007 Koko Kai Pl, Honolulu, HI 96825   \n",
       "4  1221 Victoria St APT 2404, Honolulu, HI 96814   \n",
       "\n",
       "                                                 url            type  \\\n",
       "0  https://www.zillow.com/homedetails/1221-Victor...  Condo for sale   \n",
       "1  https://www.zillow.com/homedetails/4999-Kahala...  Condo for sale   \n",
       "2  https://www.zillow.com/homedetails/5621-Kalani...  House for sale   \n",
       "3  https://www.zillow.com/homedetails/1007-Koko-K...  House for sale   \n",
       "4  https://www.zillow.com/homedetails/1221-Victor...  Condo for sale   \n",
       "\n",
       "           price bedrooms bathrooms        sqft  \n",
       "0    $199,000.00    2 bds      2 ba  1,692 sqft  \n",
       "1     $39,900.00    2 bds      2 ba  1,258 sqft  \n",
       "2  $6,995,000.00    7 bds      6 ba  6,689 sqft  \n",
       "3  $2,400,000.00    4 bds      4 ba  3,400 sqft  \n",
       "4    $265,000.00    2 bds      3 ba  1,586 sqft  "
      ]
     },
     "execution_count": 2,
     "metadata": {},
     "output_type": "execute_result"
    }
   ],
   "source": [
    "col_names = ['address', 'url', 'type', 'price', 'bedrooms', 'bathrooms', 'sqft']\n",
    "listings = pd.read_csv('hawaii_listings_2020.csv', names=col_names, header=0)\n",
    "listings.head()"
   ]
  },
  {
   "cell_type": "markdown",
   "metadata": {},
   "source": [
    "## Exploratory Analysis (Part 1)\n",
    "Here's a list of the feature definitions in the data that we have:\n",
    "* `address`: house address&mdash;includes street, city, state and zip code\n",
    "* `url`: link to the house on [zillow.com](https://www.zillow.com/)\n",
    "* `type`: type of property, i.e. house, condo, townhouse, etc.\n",
    "* `price`: current market price of the listing\n",
    "* `bedrooms`: number of bedrooms in the listing\n",
    "* `bathrooms`: number of bathrooms in the listing\n",
    "* `sqft`: square-footage of the listing"
   ]
  },
  {
   "cell_type": "markdown",
   "metadata": {},
   "source": [
    "### Missing Data"
   ]
  },
  {
   "cell_type": "code",
   "execution_count": 3,
   "metadata": {},
   "outputs": [
    {
     "data": {
      "text/plain": [
       "address        0\n",
       "url            0\n",
       "type           0\n",
       "price          0\n",
       "bedrooms       0\n",
       "bathrooms    340\n",
       "sqft         340\n",
       "dtype: int64"
      ]
     },
     "execution_count": 3,
     "metadata": {},
     "output_type": "execute_result"
    }
   ],
   "source": [
    "listings.isnull().sum()"
   ]
  },
  {
   "cell_type": "markdown",
   "metadata": {},
   "source": [
    "#### `bedrooms`"
   ]
  },
  {
   "cell_type": "code",
   "execution_count": 4,
   "metadata": {},
   "outputs": [
    {
     "data": {
      "text/plain": [
       "Studio             102\n",
       "3 acres lot         15\n",
       "1 acres lot         14\n",
       "2 acres lot          7\n",
       "0.5 acres lot        6\n",
       "                  ... \n",
       "6.88 acres lot       1\n",
       "2.43 acres lot       1\n",
       "8.5 acres lot        1\n",
       "4.36 acres lot       1\n",
       "13.32 acres lot      1\n",
       "Name: bedrooms, Length: 218, dtype: int64"
      ]
     },
     "execution_count": 4,
     "metadata": {},
     "output_type": "execute_result"
    }
   ],
   "source": [
    "listings[~listings['bedrooms'].str.contains('bds|bd')]['bedrooms'].value_counts()"
   ]
  },
  {
   "cell_type": "markdown",
   "metadata": {},
   "source": [
    "* There are many listings with the area of the property under the `bedrooms` feature, we should look into this further.\n",
    "* There are bedrooms listed as 'Studio', which we'll address later.\n",
    "\n",
    "#### `bathrooms`"
   ]
  },
  {
   "cell_type": "code",
   "execution_count": 5,
   "metadata": {},
   "outputs": [
    {
     "data": {
      "text/plain": [
       "Lot / Land for sale    324\n",
       "For sale by owner       12\n",
       "Foreclosure              4\n",
       "Name: type, dtype: int64"
      ]
     },
     "execution_count": 5,
     "metadata": {},
     "output_type": "execute_result"
    }
   ],
   "source": [
    "listings[listings['bathrooms'].isnull()]['type'].value_counts()"
   ]
  },
  {
   "cell_type": "code",
   "execution_count": 6,
   "metadata": {},
   "outputs": [
    {
     "data": {
      "text/plain": [
       "3 acres lot        15\n",
       "1 acres lot        14\n",
       "2 acres lot         7\n",
       "5 acres lot         6\n",
       "0.5 acres lot       6\n",
       "                   ..\n",
       "46.61 acres lot     1\n",
       "6.88 acres lot      1\n",
       "2.43 acres lot      1\n",
       "8.5 acres lot       1\n",
       "13.32 acres lot     1\n",
       "Name: bedrooms, Length: 217, dtype: int64"
      ]
     },
     "execution_count": 6,
     "metadata": {},
     "output_type": "execute_result"
    }
   ],
   "source": [
    "listings[listings['bathrooms'].isnull()]['bedrooms'].value_counts()"
   ]
  },
  {
   "cell_type": "markdown",
   "metadata": {},
   "source": [
    "* It appears that all listings with missing bathroom numbers are listings for plots of land, which we won't be interested in.\n",
    "\n",
    "#### `sqft`"
   ]
  },
  {
   "cell_type": "code",
   "execution_count": 7,
   "metadata": {},
   "outputs": [
    {
     "data": {
      "text/plain": [
       "Lot / Land for sale    324\n",
       "For sale by owner       12\n",
       "Foreclosure              4\n",
       "Name: type, dtype: int64"
      ]
     },
     "execution_count": 7,
     "metadata": {},
     "output_type": "execute_result"
    }
   ],
   "source": [
    "listings[listings['sqft'].isnull()]['type'].value_counts()"
   ]
  },
  {
   "cell_type": "markdown",
   "metadata": {},
   "source": [
    "* The missing `sqft` values correspond to the missing bathroom values.\n",
    "\n",
    "## Initial Data Cleaning\n",
    "Before we can properly perform exploratory analysis, we need to convert some of the features to a numerical type.\n",
    "\n",
    "### Removing Lots"
   ]
  },
  {
   "cell_type": "code",
   "execution_count": 8,
   "metadata": {},
   "outputs": [],
   "source": [
    "# remove listings for lots\n",
    "listings = listings[~listings['bedrooms'].str.contains('lot')]"
   ]
  },
  {
   "cell_type": "markdown",
   "metadata": {},
   "source": [
    "### Removing Auctions\n",
    "Auctions by nature are constantly changing in price, so we should remove those listings."
   ]
  },
  {
   "cell_type": "code",
   "execution_count": 9,
   "metadata": {},
   "outputs": [],
   "source": [
    "# remove auction listings\n",
    "listings = listings[~(listings['type'] == 'Auction')]"
   ]
  },
  {
   "cell_type": "markdown",
   "metadata": {},
   "source": [
    "### `price`"
   ]
  },
  {
   "cell_type": "code",
   "execution_count": 10,
   "metadata": {},
   "outputs": [
    {
     "data": {
      "text/plain": [
       "Est. $669,816    1\n",
       "Est. $425,349    1\n",
       "Est. $562,191    1\n",
       "Name: price, dtype: int64"
      ]
     },
     "execution_count": 10,
     "metadata": {},
     "output_type": "execute_result"
    }
   ],
   "source": [
    "listings[~listings['price'].str.contains('.00')]['price'].value_counts()"
   ]
  },
  {
   "cell_type": "markdown",
   "metadata": {},
   "source": [
    "We'll need to:\n",
    "* replace `$--` with a proper missing value (`NaN`)\n",
    "* remove `Est.` from the beginning of some values\n",
    "* replace `K` with `000` (some prices represent \"thousands\" with \"K\")\n",
    "\n",
    "Once we handle those values, we can convert the entire feature after removing the dollar signs and commas.\n",
    "\n",
    "Note: we found that some missing values in the `price` column are not counted as missing because they are represented by `--`. This could mean that there might be missing values in other columns that weren't counted."
   ]
  },
  {
   "cell_type": "code",
   "execution_count": 11,
   "metadata": {},
   "outputs": [],
   "source": [
    "# replace '$--' with 'NaN'\n",
    "listings.loc[listings['price'].str.contains('-'), 'price'] = np.nan\n",
    "\n",
    "# remove 'Est.' and replace 'K' with '000'\n",
    "listings['price'] = (listings['price']\n",
    "                         .str.replace('Est. ', '')\n",
    "                         .str.replace('K', ',000')\n",
    "                    )\n",
    "# remove '$' and ',' then convert feature to float\n",
    "listings['price'] = (listings['price']\n",
    "                         .str.replace('\\$|,', '')\n",
    "                         .astype(float)\n",
    "                    )"
   ]
  },
  {
   "cell_type": "markdown",
   "metadata": {},
   "source": [
    "### `sqft`"
   ]
  },
  {
   "cell_type": "code",
   "execution_count": 12,
   "metadata": {},
   "outputs": [
    {
     "data": {
      "text/plain": [
       "-- sqft    20\n",
       "Name: sqft, dtype: int64"
      ]
     },
     "execution_count": 12,
     "metadata": {},
     "output_type": "execute_result"
    }
   ],
   "source": [
    "listings[listings['sqft'].str.contains('-')]['sqft'].value_counts()"
   ]
  },
  {
   "cell_type": "markdown",
   "metadata": {},
   "source": [
    "* The `sqft` feature has some hidden missing values that we should replace with `NaN`\n",
    "* After that, we can remove the 'sqft' and ',' strings, and convert values to float"
   ]
  },
  {
   "cell_type": "code",
   "execution_count": 13,
   "metadata": {},
   "outputs": [],
   "source": [
    "# replace hidden missing values with NaN\n",
    "listings.loc[listings['sqft'].str.contains('-'), 'sqft'] = np.nan\n",
    "\n",
    "# remove 'sqft' and ',' and convert to float\n",
    "listings['sqft'] = (listings['sqft']\n",
    "                        .str.replace(',| sqft', '')\n",
    "                        .astype(float)\n",
    "                   )"
   ]
  },
  {
   "cell_type": "markdown",
   "metadata": {},
   "source": [
    "### `bathrooms`"
   ]
  },
  {
   "cell_type": "code",
   "execution_count": 14,
   "metadata": {},
   "outputs": [
    {
     "data": {
      "text/plain": [
       "-- ba    28\n",
       "Name: bathrooms, dtype: int64"
      ]
     },
     "execution_count": 14,
     "metadata": {},
     "output_type": "execute_result"
    }
   ],
   "source": [
    "listings[listings['bathrooms'].str.contains('-')]['bathrooms'].value_counts()"
   ]
  },
  {
   "cell_type": "code",
   "execution_count": 15,
   "metadata": {},
   "outputs": [],
   "source": [
    "# replace '-- ba' with NaN\n",
    "listings.loc[listings['bathrooms'].str.contains('-'), 'bathrooms'] = np.nan\n",
    "\n",
    "# remove ' ba' and convert to float\n",
    "listings['bathrooms'] = (listings['bathrooms']\n",
    "                             .str.replace(' ba', '')\n",
    "                             .astype(float)\n",
    "                        )"
   ]
  },
  {
   "cell_type": "markdown",
   "metadata": {},
   "source": [
    "### `bedrooms`"
   ]
  },
  {
   "cell_type": "code",
   "execution_count": 16,
   "metadata": {},
   "outputs": [
    {
     "data": {
      "text/plain": [
       "Series([], Name: bedrooms, dtype: int64)"
      ]
     },
     "execution_count": 16,
     "metadata": {},
     "output_type": "execute_result"
    }
   ],
   "source": [
    "listings[listings['bedrooms'].str.contains('-')]['bedrooms'].value_counts()"
   ]
  },
  {
   "cell_type": "markdown",
   "metadata": {},
   "source": [
    "* The `bedrooms` column doesn't have any hidden missing values, but we need to handle the `Studio` listings before we can convert the feature to a numerical data type."
   ]
  },
  {
   "cell_type": "code",
   "execution_count": 17,
   "metadata": {},
   "outputs": [
    {
     "data": {
      "text/plain": [
       "3 bds     873\n",
       "2 bds     591\n",
       "4 bds     449\n",
       "1 bd      265\n",
       "5 bds     199\n",
       "Studio    102\n",
       "6 bds      84\n",
       "7 bds      39\n",
       "8 bds      21\n",
       "9 bds       5\n",
       "10 bds      4\n",
       "11 bds      2\n",
       "12 bds      1\n",
       "15 bds      1\n",
       "18 bds      1\n",
       "47 bds      1\n",
       "24 bds      1\n",
       "29 bds      1\n",
       "Name: bedrooms, dtype: int64"
      ]
     },
     "execution_count": 17,
     "metadata": {},
     "output_type": "execute_result"
    }
   ],
   "source": [
    "listings['bedrooms'].value_counts()"
   ]
  },
  {
   "cell_type": "markdown",
   "metadata": {},
   "source": [
    "### Studios\n",
    "The most common definition of a studio is a living area that has no physical separation between the bedroom, bathroom, kitchen, and living room. So, by definition, studios can only have 1 bedroom and most likely only 1 bathroom.\n",
    "\n",
    "To distinguish studios from the other housing types, we'll replace: studio listings'\n",
    "* `type` value with `Studio`\n",
    "* `bedrooms` value with `1 bd`\n",
    "* `bathrooms` value with `1`"
   ]
  },
  {
   "cell_type": "code",
   "execution_count": 18,
   "metadata": {},
   "outputs": [],
   "source": [
    "# get 'Studio' listings indices\n",
    "studio_index = listings[listings['bedrooms'] == 'Studio'].index\n",
    "\n",
    "# set type to 'Studio'\n",
    "listings.loc[studio_index, 'type'] = 'Studio'\n",
    "\n",
    "# set bedrooms to 1 bd\n",
    "listings.loc[studio_index, 'bedrooms'] = '1 bd'\n",
    "\n",
    "# set bathrooms to 1 ba\n",
    "listings.loc[studio_index, 'bathrooms'] = 1.0"
   ]
  },
  {
   "cell_type": "code",
   "execution_count": 19,
   "metadata": {},
   "outputs": [],
   "source": [
    "# convert bedrooms to float\n",
    "listings['bedrooms'] = (listings['bedrooms']\n",
    "                            .str.replace(' bds| bd', '')\n",
    "                            .astype(float)\n",
    "                       )"
   ]
  },
  {
   "cell_type": "markdown",
   "metadata": {},
   "source": [
    "### `type`"
   ]
  },
  {
   "cell_type": "code",
   "execution_count": 20,
   "metadata": {},
   "outputs": [
    {
     "data": {
      "text/plain": [
       "House for sale        1559\n",
       "Condo for sale         779\n",
       "Studio                 102\n",
       "Townhouse for sale      68\n",
       "For sale by owner       54\n",
       "Foreclosure             33\n",
       "New construction        25\n",
       "Apartment for sale      16\n",
       "Pre-foreclosure          2\n",
       "Foreclosed               2\n",
       "Name: type, dtype: int64"
      ]
     },
     "execution_count": 20,
     "metadata": {},
     "output_type": "execute_result"
    }
   ],
   "source": [
    "listings['type'].value_counts()"
   ]
  },
  {
   "cell_type": "markdown",
   "metadata": {},
   "source": [
    "* There are some housing types that don't exactly state what kind of property the listing is for (everything listed below `Townhouse for sale` above). We can try to find out what kind of listings they are (and de-clutter the `type` values) by manually checking each listing on Zillow.\n",
    "\n",
    "#### `For sale by owner`"
   ]
  },
  {
   "cell_type": "code",
   "execution_count": 21,
   "metadata": {},
   "outputs": [],
   "source": [
    "# listing types were saved in a separate .csv file\n",
    "for_sale_by_owner = pd.read_csv('for_sale_by_owner.csv', index_col='Index')\n",
    "\n",
    "# replace 'For sale by owner' values with property type with the corresponding index\n",
    "for index in for_sale_by_owner.index:\n",
    "    listings.loc[index, 'type'] = for_sale_by_owner.loc[index, 'type']"
   ]
  },
  {
   "cell_type": "markdown",
   "metadata": {},
   "source": [
    "#### `New construction`"
   ]
  },
  {
   "cell_type": "code",
   "execution_count": 22,
   "metadata": {},
   "outputs": [],
   "source": [
    "# listing types were saved in a separate .csv file\n",
    "new_construction = pd.read_csv('new_construction.csv', index_col=0)\n",
    "\n",
    "# replace 'New construction' values\n",
    "for index in new_construction.index:\n",
    "    listings.loc[index, 'type'] = new_construction.loc[index, 'type']\n",
    "    \n",
    "# new_construction.csv introduced a new housing type called 'weird' -- drop that\n",
    "listings = listings[~(listings['type'] == 'weird')]"
   ]
  },
  {
   "cell_type": "markdown",
   "metadata": {},
   "source": [
    "#### `Foreclosure` / `Pre-foreclosure` / `Foreclosed`\n",
    "Houses that have been foreclosed tend to be incredibly run-down and out of shape, driving their values down. These listings may not accurately represent the housing prices in Hawaii, so we'll take those listings out."
   ]
  },
  {
   "cell_type": "code",
   "execution_count": 23,
   "metadata": {},
   "outputs": [],
   "source": [
    "# remove any foreclosed properties\n",
    "listings = listings[~listings['type'].str.contains('oreclos')]"
   ]
  },
  {
   "cell_type": "code",
   "execution_count": 24,
   "metadata": {},
   "outputs": [
    {
     "data": {
      "text/plain": [
       "House for sale        1559\n",
       "Condo for sale         779\n",
       "Studio                  99\n",
       "Townhouse for sale      68\n",
       "House                   51\n",
       "Condo                   19\n",
       "Apartment for sale      16\n",
       "Townhouse               10\n",
       "Name: type, dtype: int64"
      ]
     },
     "execution_count": 24,
     "metadata": {},
     "output_type": "execute_result"
    }
   ],
   "source": [
    "listings['type'].value_counts()"
   ]
  },
  {
   "cell_type": "markdown",
   "metadata": {},
   "source": [
    "#### `Apartment for sale`\n",
    "Upon further investigation on Zillow.com, the listings that are listed as `Apartment for sale` are entire apartment complexes for sale. This is something we don't need in our analysis, so we'll remove those listings."
   ]
  },
  {
   "cell_type": "code",
   "execution_count": 25,
   "metadata": {},
   "outputs": [],
   "source": [
    "# remove apartment complex listings\n",
    "listings = listings[~(listings['type'] == 'Apartment for sale')]"
   ]
  },
  {
   "cell_type": "code",
   "execution_count": 26,
   "metadata": {},
   "outputs": [
    {
     "data": {
      "text/plain": [
       "House for sale        1559\n",
       "Condo for sale         779\n",
       "Studio                  99\n",
       "Townhouse for sale      68\n",
       "House                   51\n",
       "Condo                   19\n",
       "Townhouse               10\n",
       "Name: type, dtype: int64"
      ]
     },
     "execution_count": 26,
     "metadata": {},
     "output_type": "execute_result"
    }
   ],
   "source": [
    "listings['type'].value_counts()"
   ]
  },
  {
   "cell_type": "markdown",
   "metadata": {},
   "source": [
    "#### Cleaning the types"
   ]
  },
  {
   "cell_type": "code",
   "execution_count": 27,
   "metadata": {},
   "outputs": [],
   "source": [
    "# remove 'for sale' at the end of some listing types\n",
    "listings['type'] = (listings['type']\n",
    "                        .str.replace('for sale', '')\n",
    "                        .str.strip()\n",
    "                   )"
   ]
  },
  {
   "cell_type": "code",
   "execution_count": 28,
   "metadata": {},
   "outputs": [
    {
     "data": {
      "text/plain": [
       "House        1610\n",
       "Condo         798\n",
       "Studio         99\n",
       "Townhouse      78\n",
       "Name: type, dtype: int64"
      ]
     },
     "execution_count": 28,
     "metadata": {},
     "output_type": "execute_result"
    }
   ],
   "source": [
    "listings['type'].value_counts()"
   ]
  },
  {
   "cell_type": "markdown",
   "metadata": {},
   "source": [
    "## Exploratory Analysis (Part 2)\n",
    "Questions to consider:\n",
    "1. Does the number of bedrooms have a relationship with the price?\n",
    "2. Does the number of bathrooms have a relationship with the price?\n",
    "3. Does the square-footage have a relationship with the price?\n",
    "4. Does the type of listing (house, condo, etc.) have a relationship with the price?\n",
    "\n",
    "### Missing Values"
   ]
  },
  {
   "cell_type": "code",
   "execution_count": 29,
   "metadata": {},
   "outputs": [
    {
     "data": {
      "text/plain": [
       "address       0\n",
       "url           0\n",
       "type          0\n",
       "price         0\n",
       "bedrooms      0\n",
       "bathrooms     1\n",
       "sqft         20\n",
       "dtype: int64"
      ]
     },
     "execution_count": 29,
     "metadata": {},
     "output_type": "execute_result"
    }
   ],
   "source": [
    "listings.isnull().sum()"
   ]
  },
  {
   "cell_type": "code",
   "execution_count": 30,
   "metadata": {},
   "outputs": [
    {
     "data": {
      "text/html": [
       "<div>\n",
       "<style scoped>\n",
       "    .dataframe tbody tr th:only-of-type {\n",
       "        vertical-align: middle;\n",
       "    }\n",
       "\n",
       "    .dataframe tbody tr th {\n",
       "        vertical-align: top;\n",
       "    }\n",
       "\n",
       "    .dataframe thead th {\n",
       "        text-align: right;\n",
       "    }\n",
       "</style>\n",
       "<table border=\"1\" class=\"dataframe\">\n",
       "  <thead>\n",
       "    <tr style=\"text-align: right;\">\n",
       "      <th></th>\n",
       "      <th>address</th>\n",
       "      <th>url</th>\n",
       "      <th>type</th>\n",
       "      <th>price</th>\n",
       "      <th>bedrooms</th>\n",
       "      <th>bathrooms</th>\n",
       "      <th>sqft</th>\n",
       "    </tr>\n",
       "  </thead>\n",
       "  <tbody>\n",
       "    <tr>\n",
       "      <th>1097</th>\n",
       "      <td>4933 Kahekili Hwy, Wailuku, HI 96793</td>\n",
       "      <td>https://www.zillow.com/homedetails/4933-Kaheki...</td>\n",
       "      <td>House</td>\n",
       "      <td>5295000.0</td>\n",
       "      <td>4.0</td>\n",
       "      <td>NaN</td>\n",
       "      <td>4707.0</td>\n",
       "    </tr>\n",
       "  </tbody>\n",
       "</table>\n",
       "</div>"
      ],
      "text/plain": [
       "                                   address  \\\n",
       "1097  4933 Kahekili Hwy, Wailuku, HI 96793   \n",
       "\n",
       "                                                    url   type      price  \\\n",
       "1097  https://www.zillow.com/homedetails/4933-Kaheki...  House  5295000.0   \n",
       "\n",
       "      bedrooms  bathrooms    sqft  \n",
       "1097       4.0        NaN  4707.0  "
      ]
     },
     "execution_count": 30,
     "metadata": {},
     "output_type": "execute_result"
    }
   ],
   "source": [
    "# the listing with the missing amount of bathrooms\n",
    "listings[listings['bathrooms'].isnull()]"
   ]
  },
  {
   "cell_type": "code",
   "execution_count": 31,
   "metadata": {},
   "outputs": [
    {
     "data": {
      "text/html": [
       "<div>\n",
       "<style scoped>\n",
       "    .dataframe tbody tr th:only-of-type {\n",
       "        vertical-align: middle;\n",
       "    }\n",
       "\n",
       "    .dataframe tbody tr th {\n",
       "        vertical-align: top;\n",
       "    }\n",
       "\n",
       "    .dataframe thead th {\n",
       "        text-align: right;\n",
       "    }\n",
       "</style>\n",
       "<table border=\"1\" class=\"dataframe\">\n",
       "  <thead>\n",
       "    <tr style=\"text-align: right;\">\n",
       "      <th></th>\n",
       "      <th>address</th>\n",
       "      <th>url</th>\n",
       "      <th>type</th>\n",
       "      <th>price</th>\n",
       "      <th>bedrooms</th>\n",
       "      <th>bathrooms</th>\n",
       "      <th>sqft</th>\n",
       "    </tr>\n",
       "  </thead>\n",
       "  <tbody>\n",
       "    <tr>\n",
       "      <th>166</th>\n",
       "      <td>1888 Kalakaua Ave #505, Honolulu, HI 96815</td>\n",
       "      <td>https://www.zillow.com/homedetails/1888-Kalaka...</td>\n",
       "      <td>Studio</td>\n",
       "      <td>50000.0</td>\n",
       "      <td>1.0</td>\n",
       "      <td>1.0</td>\n",
       "      <td>NaN</td>\n",
       "    </tr>\n",
       "    <tr>\n",
       "      <th>552</th>\n",
       "      <td>4730 Halehoola Pl, Honolulu, HI 96816</td>\n",
       "      <td>https://www.zillow.com/homedetails/4730-Haleho...</td>\n",
       "      <td>Studio</td>\n",
       "      <td>1000000.0</td>\n",
       "      <td>1.0</td>\n",
       "      <td>1.0</td>\n",
       "      <td>NaN</td>\n",
       "    </tr>\n",
       "    <tr>\n",
       "      <th>683</th>\n",
       "      <td>1560 Kanunu St #B-95, Honolulu, HI 96814</td>\n",
       "      <td>https://www.zillow.com/homedetails/1560-Kanunu...</td>\n",
       "      <td>Studio</td>\n",
       "      <td>30000.0</td>\n",
       "      <td>1.0</td>\n",
       "      <td>1.0</td>\n",
       "      <td>NaN</td>\n",
       "    </tr>\n",
       "    <tr>\n",
       "      <th>688</th>\n",
       "      <td>66-025 Alapii St, Haleiwa, HI 96712</td>\n",
       "      <td>https://www.zillow.com/homedetails/66-025-Alap...</td>\n",
       "      <td>Studio</td>\n",
       "      <td>695000.0</td>\n",
       "      <td>1.0</td>\n",
       "      <td>1.0</td>\n",
       "      <td>NaN</td>\n",
       "    </tr>\n",
       "    <tr>\n",
       "      <th>1637</th>\n",
       "      <td>5013 Moa Rd APT C, Kapaa, HI 96746</td>\n",
       "      <td>https://www.zillow.com/homedetails/5013-Moa-Rd...</td>\n",
       "      <td>Condo</td>\n",
       "      <td>785000.0</td>\n",
       "      <td>4.0</td>\n",
       "      <td>4.0</td>\n",
       "      <td>NaN</td>\n",
       "    </tr>\n",
       "  </tbody>\n",
       "</table>\n",
       "</div>"
      ],
      "text/plain": [
       "                                         address  \\\n",
       "166   1888 Kalakaua Ave #505, Honolulu, HI 96815   \n",
       "552        4730 Halehoola Pl, Honolulu, HI 96816   \n",
       "683     1560 Kanunu St #B-95, Honolulu, HI 96814   \n",
       "688          66-025 Alapii St, Haleiwa, HI 96712   \n",
       "1637          5013 Moa Rd APT C, Kapaa, HI 96746   \n",
       "\n",
       "                                                    url    type      price  \\\n",
       "166   https://www.zillow.com/homedetails/1888-Kalaka...  Studio    50000.0   \n",
       "552   https://www.zillow.com/homedetails/4730-Haleho...  Studio  1000000.0   \n",
       "683   https://www.zillow.com/homedetails/1560-Kanunu...  Studio    30000.0   \n",
       "688   https://www.zillow.com/homedetails/66-025-Alap...  Studio   695000.0   \n",
       "1637  https://www.zillow.com/homedetails/5013-Moa-Rd...   Condo   785000.0   \n",
       "\n",
       "      bedrooms  bathrooms  sqft  \n",
       "166        1.0        1.0   NaN  \n",
       "552        1.0        1.0   NaN  \n",
       "683        1.0        1.0   NaN  \n",
       "688        1.0        1.0   NaN  \n",
       "1637       4.0        4.0   NaN  "
      ]
     },
     "execution_count": 31,
     "metadata": {},
     "output_type": "execute_result"
    }
   ],
   "source": [
    "# some listings with missing sqft\n",
    "listings[listings['sqft'].isnull()].head()"
   ]
  },
  {
   "cell_type": "markdown",
   "metadata": {},
   "source": [
    "* We can fill the missing bathroom value by comparing the listing to other listings of the same size and finding the most common number of bathrooms within those listings.\n",
    "* Filling the missing square-footage values will be a little bit trickier.\n",
    "\n",
    "### Does the number of bedrooms have a relationship with the price?"
   ]
  },
  {
   "cell_type": "code",
   "execution_count": 32,
   "metadata": {},
   "outputs": [],
   "source": [
    "def clean_axes(axis):\n",
    "    for spine in ['top', 'left', 'right']:\n",
    "        axis.spines[spine].set_visible(False)\n",
    "    axis.tick_params(length=0, labelleft=False)"
   ]
  },
  {
   "cell_type": "code",
   "execution_count": 33,
   "metadata": {},
   "outputs": [
    {
     "data": {
      "image/png": "[encoded data removed]",
      "text/plain": [
       "<Figure size 1152x576 with 1 Axes>"
      ]
     },
     "metadata": {
      "needs_background": "light"
     },
     "output_type": "display_data"
    }
   ],
   "source": [
    "fig, ax = plt.subplots(figsize=(16,8))\n",
    "plt.yscale('symlog')\n",
    "clean_axes(ax)\n",
    "ax.set_xlabel('bedrooms', fontsize=12)\n",
    "ax.set_ylabel('price', fontsize=12)\n",
    "\n",
    "ax = sns.pointplot('bedrooms', 'price', data=listings, color=purple)\n",
    "plt.show()"
   ]
  },
  {
   "cell_type": "markdown",
   "metadata": {},
   "source": [
    "* The price fluctuates for houses over 6 bedrooms, but there is a general upward trend for the price as the number of bedrooms increases.\n",
    "* There is a very large difference between highest price and lowest price among houses with 10 bedrooms.\n",
    "\n",
    "### Does the number of bathrooms have a relationship with the price?"
   ]
  },
  {
   "cell_type": "code",
   "execution_count": 34,
   "metadata": {},
   "outputs": [
    {
     "data": {
      "image/png": "[encoded data removed]",
      "text/plain": [
       "<Figure size 1152x576 with 1 Axes>"
      ]
     },
     "metadata": {
      "needs_background": "light"
     },
     "output_type": "display_data"
    }
   ],
   "source": [
    "fig, ax = plt.subplots(figsize=(16,8))\n",
    "clean_axes(ax)\n",
    "\n",
    "ax.set_xlabel('bathrooms', fontsize=12)\n",
    "ax.set_ylabel('price', fontsize=12)\n",
    "\n",
    "ax = sns.pointplot('bathrooms', 'price', data=listings, color=purple)\n",
    "plt.show()"
   ]
  },
  {
   "cell_type": "markdown",
   "metadata": {},
   "source": [
    "* Listings with 1 - 3.25 bathrooms are around the same price.\n",
    "* Listings with 3.5 - 7 bathrooms are around the same price, with some outliers at 5.5 and 6.5 bathrooms.\n",
    "* Listings with over 8 bathrooms have the highest prices, but can include some listings in the price range of properties with 3.5 - 7 bathrooms.\n",
    "\n",
    "### Does the square-footage have a relationship with the price?"
   ]
  },
  {
   "cell_type": "code",
   "execution_count": 35,
   "metadata": {},
   "outputs": [
    {
     "data": {
      "image/png": "[encoded data removed]",
      "text/plain": [
       "<Figure size 1152x576 with 1 Axes>"
      ]
     },
     "metadata": {},
     "output_type": "display_data"
    }
   ],
   "source": [
    "# sort the listings by sqft\n",
    "sorted_sqft = listings.dropna().sort_values('sqft').copy()\n",
    "\n",
    "fig, ax = plt.subplots(figsize=(16,8))\n",
    "plt.xscale('symlog')\n",
    "for spine in ['top', 'right']:\n",
    "    ax.spines[spine].set_visible(False)\n",
    "ax.tick_params(length=0, labelleft=False, labelbottom=False)\n",
    "ax.set_xlabel('sqft', fontsize=14, labelpad=10)\n",
    "ax.set_ylabel('price', fontsize=14, labelpad=10)\n",
    "\n",
    "sorted_sqft.plot(kind='line', x='sqft', y='price', ax=ax, color=purple)\n",
    "\n",
    "plt.show()"
   ]
  },
  {
   "cell_type": "markdown",
   "metadata": {},
   "source": [
    "* Listings with lower square-footage tend to have lower prices.\n",
    "* As the square-footage increases, there is a higher chance for a listing to have a high price. However, there are still listings with high square-footage _and_ a low price. For this reason, there may be a very weak correlation between square-footage and price.\n",
    "\n",
    "### Does the type of listing (house, condo, etc.) have a relationship with the price?"
   ]
  },
  {
   "cell_type": "code",
   "execution_count": 36,
   "metadata": {},
   "outputs": [
    {
     "data": {
      "text/plain": [
       "House        1610\n",
       "Condo         798\n",
       "Studio         99\n",
       "Townhouse      78\n",
       "Name: type, dtype: int64"
      ]
     },
     "execution_count": 36,
     "metadata": {},
     "output_type": "execute_result"
    }
   ],
   "source": [
    "listings['type'].value_counts()"
   ]
  },
  {
   "cell_type": "code",
   "execution_count": 37,
   "metadata": {},
   "outputs": [
    {
     "data": {
      "image/png": "[encoded data removed]",
      "text/plain": [
       "<Figure size 576x1152 with 4 Axes>"
      ]
     },
     "metadata": {
      "needs_background": "light"
     },
     "output_type": "display_data"
    }
   ],
   "source": [
    "grid = sns.FacetGrid(sorted_sqft, row='type', height=4, aspect=2)\n",
    "grid.map(plt.scatter, 'price', 'sqft', color=purple, marker='.')\n",
    "plt.xscale('symlog')\n",
    "grid.set(xlim=(1e4, None))\n",
    "plt.show()"
   ]
  },
  {
   "cell_type": "markdown",
   "metadata": {},
   "source": [
    "* Most studio listings range between \\\\$100,000 and \\\\$1,000,000, with some outliers.\n",
    "* Most townhouse listings range between \\\\$500,000 and \\\\$3,000,000.\n",
    "* House and condo listings have a wide range of prices.\n",
    "\n",
    "## Data Preprocessing\n",
    "### `bathrooms`"
   ]
  },
  {
   "cell_type": "code",
   "execution_count": 38,
   "metadata": {},
   "outputs": [
    {
     "data": {
      "text/html": [
       "<div>\n",
       "<style scoped>\n",
       "    .dataframe tbody tr th:only-of-type {\n",
       "        vertical-align: middle;\n",
       "    }\n",
       "\n",
       "    .dataframe tbody tr th {\n",
       "        vertical-align: top;\n",
       "    }\n",
       "\n",
       "    .dataframe thead th {\n",
       "        text-align: right;\n",
       "    }\n",
       "</style>\n",
       "<table border=\"1\" class=\"dataframe\">\n",
       "  <thead>\n",
       "    <tr style=\"text-align: right;\">\n",
       "      <th></th>\n",
       "      <th>address</th>\n",
       "      <th>url</th>\n",
       "      <th>type</th>\n",
       "      <th>price</th>\n",
       "      <th>bedrooms</th>\n",
       "      <th>bathrooms</th>\n",
       "      <th>sqft</th>\n",
       "    </tr>\n",
       "  </thead>\n",
       "  <tbody>\n",
       "    <tr>\n",
       "      <th>1097</th>\n",
       "      <td>4933 Kahekili Hwy, Wailuku, HI 96793</td>\n",
       "      <td>https://www.zillow.com/homedetails/4933-Kaheki...</td>\n",
       "      <td>House</td>\n",
       "      <td>5295000.0</td>\n",
       "      <td>4.0</td>\n",
       "      <td>NaN</td>\n",
       "      <td>4707.0</td>\n",
       "    </tr>\n",
       "  </tbody>\n",
       "</table>\n",
       "</div>"
      ],
      "text/plain": [
       "                                   address  \\\n",
       "1097  4933 Kahekili Hwy, Wailuku, HI 96793   \n",
       "\n",
       "                                                    url   type      price  \\\n",
       "1097  https://www.zillow.com/homedetails/4933-Kaheki...  House  5295000.0   \n",
       "\n",
       "      bedrooms  bathrooms    sqft  \n",
       "1097       4.0        NaN  4707.0  "
      ]
     },
     "execution_count": 38,
     "metadata": {},
     "output_type": "execute_result"
    }
   ],
   "source": [
    "listings[listings['bathrooms'].isnull()]"
   ]
  },
  {
   "cell_type": "code",
   "execution_count": 39,
   "metadata": {},
   "outputs": [],
   "source": [
    "# get other listings with similar bedrooms and sqft\n",
    "bed4_sqft4700 = listings[(listings['bedrooms'] == 4) & (listings['sqft'] > 4500) & (listings['sqft'] < 4900)].copy()\n",
    "\n",
    "# fill missing bathrooms value with the mode\n",
    "listings.loc[listings['bathrooms'].isnull(), 'bathrooms'] = bed4_sqft4700['bathrooms'].mode()[0]"
   ]
  },
  {
   "cell_type": "markdown",
   "metadata": {},
   "source": [
    "### `sqft`"
   ]
  },
  {
   "cell_type": "code",
   "execution_count": 40,
   "metadata": {},
   "outputs": [
    {
     "data": {
      "image/png": "[encoded data removed]",
      "text/plain": [
       "<Figure size 720x432 with 1 Axes>"
      ]
     },
     "metadata": {
      "needs_background": "light"
     },
     "output_type": "display_data"
    }
   ],
   "source": [
    "# count the types of listings with missing sqft value\n",
    "fig, ax = plt.subplots(figsize=(10,6))\n",
    "clean_axes(ax)\n",
    "ax.set_title('Missing sqft Value')\n",
    "\n",
    "ax = sns.countplot(x='type', data=listings[listings['sqft'].isnull()], palette=lakers)\n",
    "\n",
    "plt.show()"
   ]
  },
  {
   "cell_type": "markdown",
   "metadata": {},
   "source": [
    "#### _Studios_"
   ]
  },
  {
   "cell_type": "code",
   "execution_count": 41,
   "metadata": {},
   "outputs": [
    {
     "data": {
      "image/png": "[encoded data removed]",
      "text/plain": [
       "<Figure size 1152x288 with 1 Axes>"
      ]
     },
     "metadata": {
      "needs_background": "light"
     },
     "output_type": "display_data"
    }
   ],
   "source": [
    "# isolate studio listings with missing sqft\n",
    "studios_nosqft = listings[(listings['sqft'].isnull()) & (listings['type'] == 'Studio')]\n",
    "\n",
    "fig, ax = plt.subplots(figsize=(16,4))\n",
    "for spine in ['top', 'right']:\n",
    "    ax.spines[spine].set_visible(False)\n",
    "plt.locator_params(axis='y', nbins=3)\n",
    "plt.xticks(rotation=45)\n",
    "\n",
    "ax = sns.countplot(x='price', data=studios_nosqft)"
   ]
  },
  {
   "cell_type": "markdown",
   "metadata": {},
   "source": [
    "* Studios tend to have a lower price, but there are few that are relatively expensive (over \\\\$400,000). Upon further investigation, it was found that those expensive listings are for large lots of land, one being empty and the rest having a tiny unit. Let's get rid of those listings.\n",
    "* For the rest of the studios, we can fill the missing values by comparing them to other studios with similar prices."
   ]
  },
  {
   "cell_type": "code",
   "execution_count": 42,
   "metadata": {},
   "outputs": [],
   "source": [
    "# get index of studios over $400,000\n",
    "studios_over400k = studios_nosqft[studios_nosqft['price'] > 400000].index\n",
    "\n",
    "# remove those listings\n",
    "listings.drop(studios_over400k, axis=0, inplace=True)"
   ]
  },
  {
   "cell_type": "code",
   "execution_count": 43,
   "metadata": {},
   "outputs": [
    {
     "data": {
      "text/html": [
       "<div>\n",
       "<style scoped>\n",
       "    .dataframe tbody tr th:only-of-type {\n",
       "        vertical-align: middle;\n",
       "    }\n",
       "\n",
       "    .dataframe tbody tr th {\n",
       "        vertical-align: top;\n",
       "    }\n",
       "\n",
       "    .dataframe thead th {\n",
       "        text-align: right;\n",
       "    }\n",
       "</style>\n",
       "<table border=\"1\" class=\"dataframe\">\n",
       "  <thead>\n",
       "    <tr style=\"text-align: right;\">\n",
       "      <th></th>\n",
       "      <th>address</th>\n",
       "      <th>url</th>\n",
       "      <th>type</th>\n",
       "      <th>price</th>\n",
       "      <th>bedrooms</th>\n",
       "      <th>bathrooms</th>\n",
       "      <th>sqft</th>\n",
       "    </tr>\n",
       "  </thead>\n",
       "  <tbody>\n",
       "    <tr>\n",
       "      <th>793</th>\n",
       "      <td>1288 Kapiolani Blvd #S344W, Honolulu, HI 96814</td>\n",
       "      <td>https://www.zillow.com/homedetails/1288-Kapiol...</td>\n",
       "      <td>Studio</td>\n",
       "      <td>45800.0</td>\n",
       "      <td>1.0</td>\n",
       "      <td>1.0</td>\n",
       "      <td>160.0</td>\n",
       "    </tr>\n",
       "    <tr>\n",
       "      <th>2267</th>\n",
       "      <td>Seadrift Rd, Pahoa, HI 96778</td>\n",
       "      <td>https://www.zillow.com/homedetails/Seadrift-Rd...</td>\n",
       "      <td>Studio</td>\n",
       "      <td>18000.0</td>\n",
       "      <td>1.0</td>\n",
       "      <td>1.0</td>\n",
       "      <td>192.0</td>\n",
       "    </tr>\n",
       "  </tbody>\n",
       "</table>\n",
       "</div>"
      ],
      "text/plain": [
       "                                             address  \\\n",
       "793   1288 Kapiolani Blvd #S344W, Honolulu, HI 96814   \n",
       "2267                    Seadrift Rd, Pahoa, HI 96778   \n",
       "\n",
       "                                                    url    type    price  \\\n",
       "793   https://www.zillow.com/homedetails/1288-Kapiol...  Studio  45800.0   \n",
       "2267  https://www.zillow.com/homedetails/Seadrift-Rd...  Studio  18000.0   \n",
       "\n",
       "      bedrooms  bathrooms   sqft  \n",
       "793        1.0        1.0  160.0  \n",
       "2267       1.0        1.0  192.0  "
      ]
     },
     "execution_count": 43,
     "metadata": {},
     "output_type": "execute_result"
    }
   ],
   "source": [
    "# isolate all studios\n",
    "studios = listings[listings['type'] == 'Studio'].dropna().copy()\n",
    "\n",
    "# studios below $60,000\n",
    "studios[studios['price'] < 60000]"
   ]
  },
  {
   "cell_type": "markdown",
   "metadata": {},
   "source": [
    "* There are only 2 studio listings that are below \\\\$60,000. To avoid introducing any bias, we'll fill the square-footage of studios under \\\\$60,000 with random values between 150 sqft and 200 sqft."
   ]
  },
  {
   "cell_type": "code",
   "execution_count": 44,
   "metadata": {},
   "outputs": [],
   "source": [
    "# fill missing sqft in studios that cost less than $60,000 with random values between 150sqft and 200sqft\n",
    "studios_below60K_nosqft = (listings['type'] == 'Studio') & (listings['sqft'].isnull()) & (listings['price'] < 60000)\n",
    "listings.loc[studios_below60K_nosqft, 'sqft'] = np.random.randint(150, 200, size=6)"
   ]
  },
  {
   "cell_type": "code",
   "execution_count": 45,
   "metadata": {},
   "outputs": [
    {
     "data": {
      "text/html": [
       "<div>\n",
       "<style scoped>\n",
       "    .dataframe tbody tr th:only-of-type {\n",
       "        vertical-align: middle;\n",
       "    }\n",
       "\n",
       "    .dataframe tbody tr th {\n",
       "        vertical-align: top;\n",
       "    }\n",
       "\n",
       "    .dataframe thead th {\n",
       "        text-align: right;\n",
       "    }\n",
       "</style>\n",
       "<table border=\"1\" class=\"dataframe\">\n",
       "  <thead>\n",
       "    <tr style=\"text-align: right;\">\n",
       "      <th></th>\n",
       "      <th>address</th>\n",
       "      <th>url</th>\n",
       "      <th>type</th>\n",
       "      <th>price</th>\n",
       "      <th>bedrooms</th>\n",
       "      <th>bathrooms</th>\n",
       "      <th>sqft</th>\n",
       "    </tr>\n",
       "  </thead>\n",
       "  <tbody>\n",
       "    <tr>\n",
       "      <th>495</th>\n",
       "      <td>134 Kapahulu Ave #403, Honolulu, HI 96815</td>\n",
       "      <td>https://www.zillow.com/homedetails/134-Kapahul...</td>\n",
       "      <td>Studio</td>\n",
       "      <td>149000.0</td>\n",
       "      <td>1.0</td>\n",
       "      <td>1.0</td>\n",
       "      <td>218.0</td>\n",
       "    </tr>\n",
       "    <tr>\n",
       "      <th>777</th>\n",
       "      <td>2947 Kalakaua Ave APT 703, Honolulu, HI 96815</td>\n",
       "      <td>https://www.zillow.com/homedetails/2947-Kalaka...</td>\n",
       "      <td>Studio</td>\n",
       "      <td>149000.0</td>\n",
       "      <td>1.0</td>\n",
       "      <td>1.0</td>\n",
       "      <td>350.0</td>\n",
       "    </tr>\n",
       "    <tr>\n",
       "      <th>1368</th>\n",
       "      <td>2180 W Vineyard St APT 200, Wailuku, HI 96793</td>\n",
       "      <td>https://www.zillow.com/homedetails/2180-W-Vine...</td>\n",
       "      <td>Studio</td>\n",
       "      <td>195000.0</td>\n",
       "      <td>1.0</td>\n",
       "      <td>1.0</td>\n",
       "      <td>389.0</td>\n",
       "    </tr>\n",
       "    <tr>\n",
       "      <th>1690</th>\n",
       "      <td>4331 Kauai Beach Dr #1326, Lihue, HI 96766</td>\n",
       "      <td>https://www.zillow.com/homedetails/4331-Kauai-...</td>\n",
       "      <td>Studio</td>\n",
       "      <td>169000.0</td>\n",
       "      <td>1.0</td>\n",
       "      <td>1.0</td>\n",
       "      <td>320.0</td>\n",
       "    </tr>\n",
       "    <tr>\n",
       "      <th>1691</th>\n",
       "      <td>4331 Kauai Beach Dr #1116, Lihue, HI 96766</td>\n",
       "      <td>https://www.zillow.com/homedetails/4331-Kauai-...</td>\n",
       "      <td>Studio</td>\n",
       "      <td>135000.0</td>\n",
       "      <td>1.0</td>\n",
       "      <td>1.0</td>\n",
       "      <td>320.0</td>\n",
       "    </tr>\n",
       "    <tr>\n",
       "      <th>1795</th>\n",
       "      <td>4331 Kauai Beach Dr #1308, Lihue, HI 96766</td>\n",
       "      <td>https://www.zillow.com/homedetails/4331-Kauai-...</td>\n",
       "      <td>Studio</td>\n",
       "      <td>189000.0</td>\n",
       "      <td>1.0</td>\n",
       "      <td>1.0</td>\n",
       "      <td>320.0</td>\n",
       "    </tr>\n",
       "    <tr>\n",
       "      <th>1806</th>\n",
       "      <td>4331 Kauai Beach Dr #1118, Lihue, HI 96766</td>\n",
       "      <td>https://www.zillow.com/homedetails/4331-Kauai-...</td>\n",
       "      <td>Studio</td>\n",
       "      <td>139000.0</td>\n",
       "      <td>1.0</td>\n",
       "      <td>1.0</td>\n",
       "      <td>320.0</td>\n",
       "    </tr>\n",
       "    <tr>\n",
       "      <th>2038</th>\n",
       "      <td>4331 Kauai Beach Dr #2412, Lihue, HI 96766</td>\n",
       "      <td>https://www.zillow.com/homedetails/4331-Kauai-...</td>\n",
       "      <td>Studio</td>\n",
       "      <td>199000.0</td>\n",
       "      <td>1.0</td>\n",
       "      <td>1.0</td>\n",
       "      <td>307.0</td>\n",
       "    </tr>\n",
       "    <tr>\n",
       "      <th>2042</th>\n",
       "      <td>4331 Kauai Beach Dr #2419, Lihue, HI 96766</td>\n",
       "      <td>https://www.zillow.com/homedetails/4331-Kauai-...</td>\n",
       "      <td>Studio</td>\n",
       "      <td>168000.0</td>\n",
       "      <td>1.0</td>\n",
       "      <td>1.0</td>\n",
       "      <td>320.0</td>\n",
       "    </tr>\n",
       "    <tr>\n",
       "      <th>2048</th>\n",
       "      <td>4331 Kauai Beach Dr #1317, Lihue, HI 96766</td>\n",
       "      <td>https://www.zillow.com/homedetails/4331-Kauai-...</td>\n",
       "      <td>Studio</td>\n",
       "      <td>155000.0</td>\n",
       "      <td>1.0</td>\n",
       "      <td>1.0</td>\n",
       "      <td>320.0</td>\n",
       "    </tr>\n",
       "    <tr>\n",
       "      <th>2056</th>\n",
       "      <td>4331 Kauai Beach Dr #1128, Lihue, HI 96766</td>\n",
       "      <td>https://www.zillow.com/homedetails/4331-Kauai-...</td>\n",
       "      <td>Studio</td>\n",
       "      <td>175000.0</td>\n",
       "      <td>1.0</td>\n",
       "      <td>1.0</td>\n",
       "      <td>320.0</td>\n",
       "    </tr>\n",
       "    <tr>\n",
       "      <th>2057</th>\n",
       "      <td>4331 Kauai Beach Dr #1122, Lihue, HI 96766</td>\n",
       "      <td>https://www.zillow.com/homedetails/4331-Kauai-...</td>\n",
       "      <td>Studio</td>\n",
       "      <td>189000.0</td>\n",
       "      <td>1.0</td>\n",
       "      <td>1.0</td>\n",
       "      <td>320.0</td>\n",
       "    </tr>\n",
       "    <tr>\n",
       "      <th>2087</th>\n",
       "      <td>4331 Kauai Beach Dr #1122, Lihue, HI 96766</td>\n",
       "      <td>https://www.zillow.com/homedetails/4331-Kauai-...</td>\n",
       "      <td>Studio</td>\n",
       "      <td>189000.0</td>\n",
       "      <td>1.0</td>\n",
       "      <td>1.0</td>\n",
       "      <td>320.0</td>\n",
       "    </tr>\n",
       "    <tr>\n",
       "      <th>2121</th>\n",
       "      <td>4331 Kauai Beach Dr #2443, Lihue, HI 96766</td>\n",
       "      <td>https://www.zillow.com/homedetails/4331-Kauai-...</td>\n",
       "      <td>Studio</td>\n",
       "      <td>188000.0</td>\n",
       "      <td>1.0</td>\n",
       "      <td>1.0</td>\n",
       "      <td>320.0</td>\n",
       "    </tr>\n",
       "    <tr>\n",
       "      <th>2157</th>\n",
       "      <td>4331 Kauai Beach Dr #3116, Lihue, HI 96766</td>\n",
       "      <td>https://www.zillow.com/homedetails/4331-Kauai-...</td>\n",
       "      <td>Studio</td>\n",
       "      <td>198500.0</td>\n",
       "      <td>1.0</td>\n",
       "      <td>1.0</td>\n",
       "      <td>320.0</td>\n",
       "    </tr>\n",
       "    <tr>\n",
       "      <th>2185</th>\n",
       "      <td>4331 Kauai Beach Dr #3116, Lihue, HI 96766</td>\n",
       "      <td>https://www.zillow.com/homedetails/4331-Kauai-...</td>\n",
       "      <td>Studio</td>\n",
       "      <td>198500.0</td>\n",
       "      <td>1.0</td>\n",
       "      <td>1.0</td>\n",
       "      <td>320.0</td>\n",
       "    </tr>\n",
       "    <tr>\n",
       "      <th>2491</th>\n",
       "      <td>1111 Government Beach Rd, Pahoa, HI 96778</td>\n",
       "      <td>https://www.zillow.com/homedetails/1111-Govern...</td>\n",
       "      <td>Studio</td>\n",
       "      <td>158000.0</td>\n",
       "      <td>1.0</td>\n",
       "      <td>1.0</td>\n",
       "      <td>384.0</td>\n",
       "    </tr>\n",
       "  </tbody>\n",
       "</table>\n",
       "</div>"
      ],
      "text/plain": [
       "                                            address  \\\n",
       "495       134 Kapahulu Ave #403, Honolulu, HI 96815   \n",
       "777   2947 Kalakaua Ave APT 703, Honolulu, HI 96815   \n",
       "1368  2180 W Vineyard St APT 200, Wailuku, HI 96793   \n",
       "1690     4331 Kauai Beach Dr #1326, Lihue, HI 96766   \n",
       "1691     4331 Kauai Beach Dr #1116, Lihue, HI 96766   \n",
       "1795     4331 Kauai Beach Dr #1308, Lihue, HI 96766   \n",
       "1806     4331 Kauai Beach Dr #1118, Lihue, HI 96766   \n",
       "2038     4331 Kauai Beach Dr #2412, Lihue, HI 96766   \n",
       "2042     4331 Kauai Beach Dr #2419, Lihue, HI 96766   \n",
       "2048     4331 Kauai Beach Dr #1317, Lihue, HI 96766   \n",
       "2056     4331 Kauai Beach Dr #1128, Lihue, HI 96766   \n",
       "2057     4331 Kauai Beach Dr #1122, Lihue, HI 96766   \n",
       "2087     4331 Kauai Beach Dr #1122, Lihue, HI 96766   \n",
       "2121     4331 Kauai Beach Dr #2443, Lihue, HI 96766   \n",
       "2157     4331 Kauai Beach Dr #3116, Lihue, HI 96766   \n",
       "2185     4331 Kauai Beach Dr #3116, Lihue, HI 96766   \n",
       "2491      1111 Government Beach Rd, Pahoa, HI 96778   \n",
       "\n",
       "                                                    url    type     price  \\\n",
       "495   https://www.zillow.com/homedetails/134-Kapahul...  Studio  149000.0   \n",
       "777   https://www.zillow.com/homedetails/2947-Kalaka...  Studio  149000.0   \n",
       "1368  https://www.zillow.com/homedetails/2180-W-Vine...  Studio  195000.0   \n",
       "1690  https://www.zillow.com/homedetails/4331-Kauai-...  Studio  169000.0   \n",
       "1691  https://www.zillow.com/homedetails/4331-Kauai-...  Studio  135000.0   \n",
       "1795  https://www.zillow.com/homedetails/4331-Kauai-...  Studio  189000.0   \n",
       "1806  https://www.zillow.com/homedetails/4331-Kauai-...  Studio  139000.0   \n",
       "2038  https://www.zillow.com/homedetails/4331-Kauai-...  Studio  199000.0   \n",
       "2042  https://www.zillow.com/homedetails/4331-Kauai-...  Studio  168000.0   \n",
       "2048  https://www.zillow.com/homedetails/4331-Kauai-...  Studio  155000.0   \n",
       "2056  https://www.zillow.com/homedetails/4331-Kauai-...  Studio  175000.0   \n",
       "2057  https://www.zillow.com/homedetails/4331-Kauai-...  Studio  189000.0   \n",
       "2087  https://www.zillow.com/homedetails/4331-Kauai-...  Studio  189000.0   \n",
       "2121  https://www.zillow.com/homedetails/4331-Kauai-...  Studio  188000.0   \n",
       "2157  https://www.zillow.com/homedetails/4331-Kauai-...  Studio  198500.0   \n",
       "2185  https://www.zillow.com/homedetails/4331-Kauai-...  Studio  198500.0   \n",
       "2491  https://www.zillow.com/homedetails/1111-Govern...  Studio  158000.0   \n",
       "\n",
       "      bedrooms  bathrooms   sqft  \n",
       "495        1.0        1.0  218.0  \n",
       "777        1.0        1.0  350.0  \n",
       "1368       1.0        1.0  389.0  \n",
       "1690       1.0        1.0  320.0  \n",
       "1691       1.0        1.0  320.0  \n",
       "1795       1.0        1.0  320.0  \n",
       "1806       1.0        1.0  320.0  \n",
       "2038       1.0        1.0  307.0  \n",
       "2042       1.0        1.0  320.0  \n",
       "2048       1.0        1.0  320.0  \n",
       "2056       1.0        1.0  320.0  \n",
       "2057       1.0        1.0  320.0  \n",
       "2087       1.0        1.0  320.0  \n",
       "2121       1.0        1.0  320.0  \n",
       "2157       1.0        1.0  320.0  \n",
       "2185       1.0        1.0  320.0  \n",
       "2491       1.0        1.0  384.0  "
      ]
     },
     "execution_count": 45,
     "metadata": {},
     "output_type": "execute_result"
    }
   ],
   "source": [
    "# studios between $100,000 and $200,000\n",
    "studios[(studios['price'] > 1e5) & (studios['price'] < 2e5)]"
   ]
  },
  {
   "cell_type": "markdown",
   "metadata": {},
   "source": [
    "* From a quick scan, we see that most studios within that price range are 320 sqft. So, we'll fill in the remainder of the missing studio sqft values with 320."
   ]
  },
  {
   "cell_type": "code",
   "execution_count": 46,
   "metadata": {},
   "outputs": [],
   "source": [
    "# fill remainder of studios' missing sqft values\n",
    "listings.loc[(listings['type'] == 'Studio') & (listings['sqft'].isnull()), 'sqft'] = 320.0"
   ]
  },
  {
   "cell_type": "markdown",
   "metadata": {},
   "source": [
    "#### _Condos_"
   ]
  },
  {
   "cell_type": "code",
   "execution_count": 47,
   "metadata": {},
   "outputs": [
    {
     "data": {
      "text/html": [
       "<div>\n",
       "<style scoped>\n",
       "    .dataframe tbody tr th:only-of-type {\n",
       "        vertical-align: middle;\n",
       "    }\n",
       "\n",
       "    .dataframe tbody tr th {\n",
       "        vertical-align: top;\n",
       "    }\n",
       "\n",
       "    .dataframe thead th {\n",
       "        text-align: right;\n",
       "    }\n",
       "</style>\n",
       "<table border=\"1\" class=\"dataframe\">\n",
       "  <thead>\n",
       "    <tr style=\"text-align: right;\">\n",
       "      <th></th>\n",
       "      <th>address</th>\n",
       "      <th>url</th>\n",
       "      <th>type</th>\n",
       "      <th>price</th>\n",
       "      <th>bedrooms</th>\n",
       "      <th>bathrooms</th>\n",
       "      <th>sqft</th>\n",
       "    </tr>\n",
       "  </thead>\n",
       "  <tbody>\n",
       "    <tr>\n",
       "      <th>1637</th>\n",
       "      <td>5013 Moa Rd APT C, Kapaa, HI 96746</td>\n",
       "      <td>https://www.zillow.com/homedetails/5013-Moa-Rd...</td>\n",
       "      <td>Condo</td>\n",
       "      <td>785000.0</td>\n",
       "      <td>4.0</td>\n",
       "      <td>4.0</td>\n",
       "      <td>NaN</td>\n",
       "    </tr>\n",
       "  </tbody>\n",
       "</table>\n",
       "</div>"
      ],
      "text/plain": [
       "                                 address  \\\n",
       "1637  5013 Moa Rd APT C, Kapaa, HI 96746   \n",
       "\n",
       "                                                    url   type     price  \\\n",
       "1637  https://www.zillow.com/homedetails/5013-Moa-Rd...  Condo  785000.0   \n",
       "\n",
       "      bedrooms  bathrooms  sqft  \n",
       "1637       4.0        4.0   NaN  "
      ]
     },
     "execution_count": 47,
     "metadata": {},
     "output_type": "execute_result"
    }
   ],
   "source": [
    "listings[(listings['type'] == 'Condo') & (listings['sqft'].isnull())]"
   ]
  },
  {
   "cell_type": "markdown",
   "metadata": {},
   "source": [
    "* Check other condo listings that have 4 beds and 4 baths."
   ]
  },
  {
   "cell_type": "code",
   "execution_count": 48,
   "metadata": {},
   "outputs": [
    {
     "data": {
      "text/html": [
       "<div>\n",
       "<style scoped>\n",
       "    .dataframe tbody tr th:only-of-type {\n",
       "        vertical-align: middle;\n",
       "    }\n",
       "\n",
       "    .dataframe tbody tr th {\n",
       "        vertical-align: top;\n",
       "    }\n",
       "\n",
       "    .dataframe thead th {\n",
       "        text-align: right;\n",
       "    }\n",
       "</style>\n",
       "<table border=\"1\" class=\"dataframe\">\n",
       "  <thead>\n",
       "    <tr style=\"text-align: right;\">\n",
       "      <th></th>\n",
       "      <th>address</th>\n",
       "      <th>url</th>\n",
       "      <th>type</th>\n",
       "      <th>price</th>\n",
       "      <th>bedrooms</th>\n",
       "      <th>bathrooms</th>\n",
       "      <th>sqft</th>\n",
       "    </tr>\n",
       "  </thead>\n",
       "  <tbody>\n",
       "    <tr>\n",
       "      <th>30</th>\n",
       "      <td>1388 Ala Moana Blvd APT 6504, Honolulu, HI 96814</td>\n",
       "      <td>https://www.zillow.com/homedetails/1388-Ala-Mo...</td>\n",
       "      <td>Condo</td>\n",
       "      <td>12745000.0</td>\n",
       "      <td>4.0</td>\n",
       "      <td>4.0</td>\n",
       "      <td>4060.0</td>\n",
       "    </tr>\n",
       "    <tr>\n",
       "      <th>1239</th>\n",
       "      <td>1 Liloa Dr #12E, Kihei, HI 96753</td>\n",
       "      <td>https://www.zillow.com/homedetails/1-Liloa-Dr-...</td>\n",
       "      <td>Condo</td>\n",
       "      <td>3595000.0</td>\n",
       "      <td>4.0</td>\n",
       "      <td>4.0</td>\n",
       "      <td>2587.0</td>\n",
       "    </tr>\n",
       "    <tr>\n",
       "      <th>1355</th>\n",
       "      <td>Penthouse Plan, Lai Loa at Wailea Hills</td>\n",
       "      <td>https://www.zillow.com/community/lai-loa-at-wa...</td>\n",
       "      <td>Condo</td>\n",
       "      <td>3495000.0</td>\n",
       "      <td>4.0</td>\n",
       "      <td>4.0</td>\n",
       "      <td>2587.0</td>\n",
       "    </tr>\n",
       "    <tr>\n",
       "      <th>1637</th>\n",
       "      <td>5013 Moa Rd APT C, Kapaa, HI 96746</td>\n",
       "      <td>https://www.zillow.com/homedetails/5013-Moa-Rd...</td>\n",
       "      <td>Condo</td>\n",
       "      <td>785000.0</td>\n",
       "      <td>4.0</td>\n",
       "      <td>4.0</td>\n",
       "      <td>NaN</td>\n",
       "    </tr>\n",
       "    <tr>\n",
       "      <th>1815</th>\n",
       "      <td>2611 Kiahuna Plantation Dr UNIT 2B, Koloa, HI ...</td>\n",
       "      <td>https://www.zillow.com/homedetails/2611-Kiahun...</td>\n",
       "      <td>Condo</td>\n",
       "      <td>1199000.0</td>\n",
       "      <td>4.0</td>\n",
       "      <td>4.0</td>\n",
       "      <td>1850.0</td>\n",
       "    </tr>\n",
       "    <tr>\n",
       "      <th>1823</th>\n",
       "      <td>2611 Kiahuna Plantation Dr UNIT 1B, Koloa, HI ...</td>\n",
       "      <td>https://www.zillow.com/homedetails/2611-Kiahun...</td>\n",
       "      <td>Condo</td>\n",
       "      <td>1249999.0</td>\n",
       "      <td>4.0</td>\n",
       "      <td>4.0</td>\n",
       "      <td>1850.0</td>\n",
       "    </tr>\n",
       "    <tr>\n",
       "      <th>2823</th>\n",
       "      <td>66-84 Kaunaoa Dr #B15, Kamuela, HI 96743</td>\n",
       "      <td>https://www.zillow.com/homedetails/66-84-Kauna...</td>\n",
       "      <td>Condo</td>\n",
       "      <td>8995000.0</td>\n",
       "      <td>4.0</td>\n",
       "      <td>4.0</td>\n",
       "      <td>3408.0</td>\n",
       "    </tr>\n",
       "  </tbody>\n",
       "</table>\n",
       "</div>"
      ],
      "text/plain": [
       "                                                address  \\\n",
       "30     1388 Ala Moana Blvd APT 6504, Honolulu, HI 96814   \n",
       "1239                   1 Liloa Dr #12E, Kihei, HI 96753   \n",
       "1355            Penthouse Plan, Lai Loa at Wailea Hills   \n",
       "1637                 5013 Moa Rd APT C, Kapaa, HI 96746   \n",
       "1815  2611 Kiahuna Plantation Dr UNIT 2B, Koloa, HI ...   \n",
       "1823  2611 Kiahuna Plantation Dr UNIT 1B, Koloa, HI ...   \n",
       "2823           66-84 Kaunaoa Dr #B15, Kamuela, HI 96743   \n",
       "\n",
       "                                                    url   type       price  \\\n",
       "30    https://www.zillow.com/homedetails/1388-Ala-Mo...  Condo  12745000.0   \n",
       "1239  https://www.zillow.com/homedetails/1-Liloa-Dr-...  Condo   3595000.0   \n",
       "1355  https://www.zillow.com/community/lai-loa-at-wa...  Condo   3495000.0   \n",
       "1637  https://www.zillow.com/homedetails/5013-Moa-Rd...  Condo    785000.0   \n",
       "1815  https://www.zillow.com/homedetails/2611-Kiahun...  Condo   1199000.0   \n",
       "1823  https://www.zillow.com/homedetails/2611-Kiahun...  Condo   1249999.0   \n",
       "2823  https://www.zillow.com/homedetails/66-84-Kauna...  Condo   8995000.0   \n",
       "\n",
       "      bedrooms  bathrooms    sqft  \n",
       "30         4.0        4.0  4060.0  \n",
       "1239       4.0        4.0  2587.0  \n",
       "1355       4.0        4.0  2587.0  \n",
       "1637       4.0        4.0     NaN  \n",
       "1815       4.0        4.0  1850.0  \n",
       "1823       4.0        4.0  1850.0  \n",
       "2823       4.0        4.0  3408.0  "
      ]
     },
     "execution_count": 48,
     "metadata": {},
     "output_type": "execute_result"
    }
   ],
   "source": [
    "select_condos = ((listings['type'] == 'Condo') & (listings['bedrooms'] == 4) & (listings['bathrooms'] == 4))\n",
    "listings[select_condos]"
   ]
  },
  {
   "cell_type": "markdown",
   "metadata": {},
   "source": [
    "* There are no other condos with 4 beds and 4 baths with a comparable price, so we'll fill the missing sqft with an arbitrarily chosen 1600 sqft."
   ]
  },
  {
   "cell_type": "code",
   "execution_count": 49,
   "metadata": {},
   "outputs": [],
   "source": [
    "listings.loc[(listings['type'] == 'Condo') & (listings['sqft'].isnull()), 'sqft'] = 1600.0"
   ]
  },
  {
   "cell_type": "markdown",
   "metadata": {},
   "source": [
    "#### _Houses_"
   ]
  },
  {
   "cell_type": "code",
   "execution_count": 50,
   "metadata": {},
   "outputs": [
    {
     "data": {
      "text/html": [
       "<div>\n",
       "<style scoped>\n",
       "    .dataframe tbody tr th:only-of-type {\n",
       "        vertical-align: middle;\n",
       "    }\n",
       "\n",
       "    .dataframe tbody tr th {\n",
       "        vertical-align: top;\n",
       "    }\n",
       "\n",
       "    .dataframe thead th {\n",
       "        text-align: right;\n",
       "    }\n",
       "</style>\n",
       "<table border=\"1\" class=\"dataframe\">\n",
       "  <thead>\n",
       "    <tr style=\"text-align: right;\">\n",
       "      <th></th>\n",
       "      <th>address</th>\n",
       "      <th>url</th>\n",
       "      <th>type</th>\n",
       "      <th>price</th>\n",
       "      <th>bedrooms</th>\n",
       "      <th>bathrooms</th>\n",
       "      <th>sqft</th>\n",
       "    </tr>\n",
       "  </thead>\n",
       "  <tbody>\n",
       "    <tr>\n",
       "      <th>2238</th>\n",
       "      <td>15-848 Kahakai Blvd, Pahoa, HI 96778</td>\n",
       "      <td>https://www.zillow.com/homedetails/15-848-Kaha...</td>\n",
       "      <td>House</td>\n",
       "      <td>175000.0</td>\n",
       "      <td>2.0</td>\n",
       "      <td>1.0</td>\n",
       "      <td>NaN</td>\n",
       "    </tr>\n",
       "    <tr>\n",
       "      <th>2242</th>\n",
       "      <td>15-848 Kahakai Blvd, Pahoa, HI 96778</td>\n",
       "      <td>https://www.zillow.com/homedetails/15-848-Kaha...</td>\n",
       "      <td>House</td>\n",
       "      <td>175000.0</td>\n",
       "      <td>2.0</td>\n",
       "      <td>1.0</td>\n",
       "      <td>NaN</td>\n",
       "    </tr>\n",
       "  </tbody>\n",
       "</table>\n",
       "</div>"
      ],
      "text/plain": [
       "                                   address  \\\n",
       "2238  15-848 Kahakai Blvd, Pahoa, HI 96778   \n",
       "2242  15-848 Kahakai Blvd, Pahoa, HI 96778   \n",
       "\n",
       "                                                    url   type     price  \\\n",
       "2238  https://www.zillow.com/homedetails/15-848-Kaha...  House  175000.0   \n",
       "2242  https://www.zillow.com/homedetails/15-848-Kaha...  House  175000.0   \n",
       "\n",
       "      bedrooms  bathrooms  sqft  \n",
       "2238       2.0        1.0   NaN  \n",
       "2242       2.0        1.0   NaN  "
      ]
     },
     "execution_count": 50,
     "metadata": {},
     "output_type": "execute_result"
    }
   ],
   "source": [
    "listings[(listings['type'] == 'House') & (listings['sqft'].isnull())]"
   ]
  },
  {
   "cell_type": "markdown",
   "metadata": {},
   "source": [
    "* These two listings happen to be duplicates, so we'll get rid of one and fill the other with a sqft value that we'll get by comparison."
   ]
  },
  {
   "cell_type": "code",
   "execution_count": 51,
   "metadata": {},
   "outputs": [
    {
     "data": {
      "text/html": [
       "<div>\n",
       "<style scoped>\n",
       "    .dataframe tbody tr th:only-of-type {\n",
       "        vertical-align: middle;\n",
       "    }\n",
       "\n",
       "    .dataframe tbody tr th {\n",
       "        vertical-align: top;\n",
       "    }\n",
       "\n",
       "    .dataframe thead th {\n",
       "        text-align: right;\n",
       "    }\n",
       "</style>\n",
       "<table border=\"1\" class=\"dataframe\">\n",
       "  <thead>\n",
       "    <tr style=\"text-align: right;\">\n",
       "      <th></th>\n",
       "      <th>address</th>\n",
       "      <th>url</th>\n",
       "      <th>type</th>\n",
       "      <th>price</th>\n",
       "      <th>bedrooms</th>\n",
       "      <th>bathrooms</th>\n",
       "      <th>sqft</th>\n",
       "    </tr>\n",
       "  </thead>\n",
       "  <tbody>\n",
       "    <tr>\n",
       "      <th>2238</th>\n",
       "      <td>15-848 Kahakai Blvd, Pahoa, HI 96778</td>\n",
       "      <td>https://www.zillow.com/homedetails/15-848-Kaha...</td>\n",
       "      <td>House</td>\n",
       "      <td>175000.0</td>\n",
       "      <td>2.0</td>\n",
       "      <td>1.0</td>\n",
       "      <td>NaN</td>\n",
       "    </tr>\n",
       "    <tr>\n",
       "      <th>2242</th>\n",
       "      <td>15-848 Kahakai Blvd, Pahoa, HI 96778</td>\n",
       "      <td>https://www.zillow.com/homedetails/15-848-Kaha...</td>\n",
       "      <td>House</td>\n",
       "      <td>175000.0</td>\n",
       "      <td>2.0</td>\n",
       "      <td>1.0</td>\n",
       "      <td>NaN</td>\n",
       "    </tr>\n",
       "    <tr>\n",
       "      <th>2302</th>\n",
       "      <td>15-848 N Kahakai Blvd, Pahoa, HI 96778</td>\n",
       "      <td>https://www.zillow.com/homedetails/15-848-N-Ka...</td>\n",
       "      <td>House</td>\n",
       "      <td>175000.0</td>\n",
       "      <td>2.0</td>\n",
       "      <td>1.0</td>\n",
       "      <td>640.0</td>\n",
       "    </tr>\n",
       "    <tr>\n",
       "      <th>2318</th>\n",
       "      <td>13-1313 Malama St, Pahoa, HI 96778</td>\n",
       "      <td>https://www.zillow.com/homedetails/13-1313-Mal...</td>\n",
       "      <td>House</td>\n",
       "      <td>189000.0</td>\n",
       "      <td>2.0</td>\n",
       "      <td>1.0</td>\n",
       "      <td>1666.0</td>\n",
       "    </tr>\n",
       "    <tr>\n",
       "      <th>2421</th>\n",
       "      <td>44-231 Hoolauae St, Honokaa, HI 96727</td>\n",
       "      <td>https://www.zillow.com/homedetails/44-231-Hool...</td>\n",
       "      <td>House</td>\n",
       "      <td>189000.0</td>\n",
       "      <td>2.0</td>\n",
       "      <td>1.0</td>\n",
       "      <td>912.0</td>\n",
       "    </tr>\n",
       "    <tr>\n",
       "      <th>2436</th>\n",
       "      <td>12-258 Mapuana Ave, Pahoa, HI 96778</td>\n",
       "      <td>https://www.zillow.com/homedetails/12-258-Mapu...</td>\n",
       "      <td>House</td>\n",
       "      <td>155000.0</td>\n",
       "      <td>2.0</td>\n",
       "      <td>1.0</td>\n",
       "      <td>640.0</td>\n",
       "    </tr>\n",
       "    <tr>\n",
       "      <th>2440</th>\n",
       "      <td>18-2019 Wao Nani Rd, Volcano, HI 96785</td>\n",
       "      <td>https://www.zillow.com/homedetails/18-2019-Wao...</td>\n",
       "      <td>House</td>\n",
       "      <td>174900.0</td>\n",
       "      <td>2.0</td>\n",
       "      <td>1.0</td>\n",
       "      <td>1005.0</td>\n",
       "    </tr>\n",
       "    <tr>\n",
       "      <th>2671</th>\n",
       "      <td>92-8424 Tiki Ln, Ocean View, HI 96704</td>\n",
       "      <td>https://www.zillow.com/homedetails/92-8424-Tik...</td>\n",
       "      <td>House</td>\n",
       "      <td>179900.0</td>\n",
       "      <td>2.0</td>\n",
       "      <td>1.0</td>\n",
       "      <td>912.0</td>\n",
       "    </tr>\n",
       "    <tr>\n",
       "      <th>2951</th>\n",
       "      <td>13-3469 Kumakahi St, Pahoa, HI 96778</td>\n",
       "      <td>https://www.zillow.com/homedetails/13-3469-Kum...</td>\n",
       "      <td>House</td>\n",
       "      <td>159000.0</td>\n",
       "      <td>2.0</td>\n",
       "      <td>1.0</td>\n",
       "      <td>864.0</td>\n",
       "    </tr>\n",
       "    <tr>\n",
       "      <th>2964</th>\n",
       "      <td>11-3490 Plumeria St, Street, HI 96771</td>\n",
       "      <td>https://www.zillow.com/homedetails/11-3490-Plu...</td>\n",
       "      <td>House</td>\n",
       "      <td>169900.0</td>\n",
       "      <td>2.0</td>\n",
       "      <td>1.0</td>\n",
       "      <td>768.0</td>\n",
       "    </tr>\n",
       "  </tbody>\n",
       "</table>\n",
       "</div>"
      ],
      "text/plain": [
       "                                     address  \\\n",
       "2238    15-848 Kahakai Blvd, Pahoa, HI 96778   \n",
       "2242    15-848 Kahakai Blvd, Pahoa, HI 96778   \n",
       "2302  15-848 N Kahakai Blvd, Pahoa, HI 96778   \n",
       "2318      13-1313 Malama St, Pahoa, HI 96778   \n",
       "2421   44-231 Hoolauae St, Honokaa, HI 96727   \n",
       "2436     12-258 Mapuana Ave, Pahoa, HI 96778   \n",
       "2440  18-2019 Wao Nani Rd, Volcano, HI 96785   \n",
       "2671   92-8424 Tiki Ln, Ocean View, HI 96704   \n",
       "2951    13-3469 Kumakahi St, Pahoa, HI 96778   \n",
       "2964   11-3490 Plumeria St, Street, HI 96771   \n",
       "\n",
       "                                                    url   type     price  \\\n",
       "2238  https://www.zillow.com/homedetails/15-848-Kaha...  House  175000.0   \n",
       "2242  https://www.zillow.com/homedetails/15-848-Kaha...  House  175000.0   \n",
       "2302  https://www.zillow.com/homedetails/15-848-N-Ka...  House  175000.0   \n",
       "2318  https://www.zillow.com/homedetails/13-1313-Mal...  House  189000.0   \n",
       "2421  https://www.zillow.com/homedetails/44-231-Hool...  House  189000.0   \n",
       "2436  https://www.zillow.com/homedetails/12-258-Mapu...  House  155000.0   \n",
       "2440  https://www.zillow.com/homedetails/18-2019-Wao...  House  174900.0   \n",
       "2671  https://www.zillow.com/homedetails/92-8424-Tik...  House  179900.0   \n",
       "2951  https://www.zillow.com/homedetails/13-3469-Kum...  House  159000.0   \n",
       "2964  https://www.zillow.com/homedetails/11-3490-Plu...  House  169900.0   \n",
       "\n",
       "      bedrooms  bathrooms    sqft  \n",
       "2238       2.0        1.0     NaN  \n",
       "2242       2.0        1.0     NaN  \n",
       "2302       2.0        1.0   640.0  \n",
       "2318       2.0        1.0  1666.0  \n",
       "2421       2.0        1.0   912.0  \n",
       "2436       2.0        1.0   640.0  \n",
       "2440       2.0        1.0  1005.0  \n",
       "2671       2.0        1.0   912.0  \n",
       "2951       2.0        1.0   864.0  \n",
       "2964       2.0        1.0   768.0  "
      ]
     },
     "execution_count": 51,
     "metadata": {},
     "output_type": "execute_result"
    }
   ],
   "source": [
    "select_houses = ((listings['type'] == 'House') & (listings['bedrooms'] == 2) & (listings['bathrooms'] == 1) &\n",
    "                 (listings['price'] >= 150000) & (listings['price'] <= 200000))\n",
    "listings[select_houses]"
   ]
  },
  {
   "cell_type": "markdown",
   "metadata": {},
   "source": [
    "* It looks like there is actually another listing that is identical to those houses that are missing the sqft value, except this one has its sqft value. We'll just delete those two duplicates."
   ]
  },
  {
   "cell_type": "code",
   "execution_count": 52,
   "metadata": {},
   "outputs": [],
   "source": [
    "# since those are the last two null values, we can just use dropna()\n",
    "listings = listings.dropna()"
   ]
  },
  {
   "cell_type": "markdown",
   "metadata": {},
   "source": [
    "### `address`\n",
    "The `address` column as it is won't be of much use to us, but we can extract some valuable information from each address, such as:\n",
    "* Street name\n",
    "* City\n",
    "* Zipcode"
   ]
  },
  {
   "cell_type": "code",
   "execution_count": 53,
   "metadata": {},
   "outputs": [],
   "source": [
    "# extract street name, city, and zipcode from the 'address' feature to create new features\n",
    "# split addresses\n",
    "listings['address'] = listings['address'].str.split(',')\n",
    "\n",
    "# street\n",
    "listings['street'] = (listings['address'].str[0]\n",
    "                          .str.replace(r'[0-9]', '')\n",
    "                          .str.replace('APT', '')\n",
    "                          .str.strip()\n",
    "                     )\n",
    "\n",
    "# city\n",
    "listings['city'] = (listings['address'].str[1]\n",
    "                        .str.strip()\n",
    "                   )\n",
    "\n",
    "# zipdcode\n",
    "listings['zipcode'] = (listings['address'].str[2]\n",
    "                           .str.replace('HI', '')\n",
    "                           .str.strip()\n",
    "                      )\n",
    "# drop null values\n",
    "listings = listings.dropna()\n",
    "\n",
    "# drop 'address' column\n",
    "listings.drop(['address'], axis=1, inplace=True)"
   ]
  },
  {
   "cell_type": "code",
   "execution_count": 54,
   "metadata": {
    "scrolled": true
   },
   "outputs": [
    {
     "data": {
      "text/html": [
       "<div>\n",
       "<style scoped>\n",
       "    .dataframe tbody tr th:only-of-type {\n",
       "        vertical-align: middle;\n",
       "    }\n",
       "\n",
       "    .dataframe tbody tr th {\n",
       "        vertical-align: top;\n",
       "    }\n",
       "\n",
       "    .dataframe thead th {\n",
       "        text-align: right;\n",
       "    }\n",
       "</style>\n",
       "<table border=\"1\" class=\"dataframe\">\n",
       "  <thead>\n",
       "    <tr style=\"text-align: right;\">\n",
       "      <th></th>\n",
       "      <th>url</th>\n",
       "      <th>type</th>\n",
       "      <th>price</th>\n",
       "      <th>bedrooms</th>\n",
       "      <th>bathrooms</th>\n",
       "      <th>sqft</th>\n",
       "      <th>street</th>\n",
       "      <th>city</th>\n",
       "      <th>zipcode</th>\n",
       "    </tr>\n",
       "  </thead>\n",
       "  <tbody>\n",
       "    <tr>\n",
       "      <th>0</th>\n",
       "      <td>https://www.zillow.com/homedetails/1221-Victor...</td>\n",
       "      <td>Condo</td>\n",
       "      <td>199000.0</td>\n",
       "      <td>2.0</td>\n",
       "      <td>2.0</td>\n",
       "      <td>1692.0</td>\n",
       "      <td>Victoria St</td>\n",
       "      <td>Honolulu</td>\n",
       "      <td>96814</td>\n",
       "    </tr>\n",
       "    <tr>\n",
       "      <th>1</th>\n",
       "      <td>https://www.zillow.com/homedetails/4999-Kahala...</td>\n",
       "      <td>Condo</td>\n",
       "      <td>39900.0</td>\n",
       "      <td>2.0</td>\n",
       "      <td>2.0</td>\n",
       "      <td>1258.0</td>\n",
       "      <td>Kahala Ave</td>\n",
       "      <td>Honolulu</td>\n",
       "      <td>96816</td>\n",
       "    </tr>\n",
       "    <tr>\n",
       "      <th>2</th>\n",
       "      <td>https://www.zillow.com/homedetails/5621-Kalani...</td>\n",
       "      <td>House</td>\n",
       "      <td>6995000.0</td>\n",
       "      <td>7.0</td>\n",
       "      <td>6.0</td>\n",
       "      <td>6689.0</td>\n",
       "      <td>Kalanianaole Hwy</td>\n",
       "      <td>Honolulu</td>\n",
       "      <td>96821</td>\n",
       "    </tr>\n",
       "    <tr>\n",
       "      <th>3</th>\n",
       "      <td>https://www.zillow.com/homedetails/1007-Koko-K...</td>\n",
       "      <td>House</td>\n",
       "      <td>2400000.0</td>\n",
       "      <td>4.0</td>\n",
       "      <td>4.0</td>\n",
       "      <td>3400.0</td>\n",
       "      <td>Koko Kai Pl</td>\n",
       "      <td>Honolulu</td>\n",
       "      <td>96825</td>\n",
       "    </tr>\n",
       "    <tr>\n",
       "      <th>4</th>\n",
       "      <td>https://www.zillow.com/homedetails/1221-Victor...</td>\n",
       "      <td>Condo</td>\n",
       "      <td>265000.0</td>\n",
       "      <td>2.0</td>\n",
       "      <td>3.0</td>\n",
       "      <td>1586.0</td>\n",
       "      <td>Victoria St</td>\n",
       "      <td>Honolulu</td>\n",
       "      <td>96814</td>\n",
       "    </tr>\n",
       "  </tbody>\n",
       "</table>\n",
       "</div>"
      ],
      "text/plain": [
       "                                                 url   type      price  \\\n",
       "0  https://www.zillow.com/homedetails/1221-Victor...  Condo   199000.0   \n",
       "1  https://www.zillow.com/homedetails/4999-Kahala...  Condo    39900.0   \n",
       "2  https://www.zillow.com/homedetails/5621-Kalani...  House  6995000.0   \n",
       "3  https://www.zillow.com/homedetails/1007-Koko-K...  House  2400000.0   \n",
       "4  https://www.zillow.com/homedetails/1221-Victor...  Condo   265000.0   \n",
       "\n",
       "   bedrooms  bathrooms    sqft            street      city zipcode  \n",
       "0       2.0        2.0  1692.0       Victoria St  Honolulu   96814  \n",
       "1       2.0        2.0  1258.0        Kahala Ave  Honolulu   96816  \n",
       "2       7.0        6.0  6689.0  Kalanianaole Hwy  Honolulu   96821  \n",
       "3       4.0        4.0  3400.0       Koko Kai Pl  Honolulu   96825  \n",
       "4       2.0        3.0  1586.0       Victoria St  Honolulu   96814  "
      ]
     },
     "execution_count": 54,
     "metadata": {},
     "output_type": "execute_result"
    }
   ],
   "source": [
    "listings.head()"
   ]
  },
  {
   "cell_type": "code",
   "execution_count": 55,
   "metadata": {
    "scrolled": true
   },
   "outputs": [
    {
     "data": {
      "text/plain": [
       "url          0\n",
       "type         0\n",
       "price        0\n",
       "bedrooms     0\n",
       "bathrooms    0\n",
       "sqft         0\n",
       "street       0\n",
       "city         0\n",
       "zipcode      0\n",
       "dtype: int64"
      ]
     },
     "execution_count": 55,
     "metadata": {},
     "output_type": "execute_result"
    }
   ],
   "source": [
    "listings.isnull().sum()"
   ]
  },
  {
   "cell_type": "markdown",
   "metadata": {},
   "source": [
    "### `url`\n",
    "There is not useful information in the `url` feature that we don't already have, so we'll drop that column."
   ]
  },
  {
   "cell_type": "code",
   "execution_count": 56,
   "metadata": {},
   "outputs": [],
   "source": [
    "# drop 'url' column\n",
    "listings.drop(['url'], axis=1, inplace=True)"
   ]
  },
  {
   "cell_type": "markdown",
   "metadata": {},
   "source": [
    "## Creating Categories\n",
    "### `sqft`\n",
    "We'll categorize the `sqft` feature using the following dictionary:\n",
    "* `small`: $\\textrm{sqft} < 500$\n",
    "* `medium`: $500 \\leq \\textrm{sqft} < 1000$\n",
    "* `large`: $1000 \\leq \\textrm{sqft} < 2000$\n",
    "* `very large`: $\\textrm{sqft} \\geq 2000$"
   ]
  },
  {
   "cell_type": "code",
   "execution_count": 57,
   "metadata": {},
   "outputs": [],
   "source": [
    "listings.loc[listings['sqft'] < 500, 'sqft'] = 0 # small\n",
    "listings.loc[(listings['sqft'] >= 500) & (listings['sqft'] < 1000), 'sqft'] = 1 # medium\n",
    "listings.loc[(listings['sqft'] >= 1000) & (listings['sqft'] < 2000), 'sqft'] = 2 # large\n",
    "listings.loc[(listings['sqft'] >= 2000), 'sqft'] = 3 # very large\n",
    "    \n",
    "listings['sqft'] = listings['sqft'].astype(int).astype(str)\n",
    "listings.loc[listings['sqft'] == '0', 'sqft'] = 'small'\n",
    "listings.loc[listings['sqft'] == '1', 'sqft'] = 'medium'\n",
    "listings.loc[listings['sqft'] == '2', 'sqft'] = 'large'\n",
    "listings.loc[listings['sqft'] == '3', 'sqft'] = 'very large'"
   ]
  },
  {
   "cell_type": "markdown",
   "metadata": {},
   "source": [
    "### Islands\n",
    "We'll group the zipcodes together by island."
   ]
  },
  {
   "cell_type": "code",
   "execution_count": 58,
   "metadata": {},
   "outputs": [
    {
     "data": {
      "text/plain": [
       "78"
      ]
     },
     "execution_count": 58,
     "metadata": {},
     "output_type": "execute_result"
    }
   ],
   "source": [
    "len(list(listings['zipcode'].value_counts().index))"
   ]
  },
  {
   "cell_type": "code",
   "execution_count": 59,
   "metadata": {},
   "outputs": [],
   "source": [
    "islands = pd.read_csv('zipcode_islands.csv')"
   ]
  },
  {
   "cell_type": "code",
   "execution_count": 60,
   "metadata": {},
   "outputs": [],
   "source": [
    "islands = islands.fillna(0)\n",
    "islands = islands.astype(int).astype(str)"
   ]
  },
  {
   "cell_type": "code",
   "execution_count": 61,
   "metadata": {
    "scrolled": true
   },
   "outputs": [],
   "source": [
    "# create new column describing the island that the house is on\n",
    "for island in islands.columns:\n",
    "    for row in listings.index:\n",
    "        if listings.loc[row, 'zipcode'] in list(islands[island]):\n",
    "            listings.loc[row, 'island'] = island\n",
    "        else:\n",
    "            continue\n",
    "            \n",
    "# drop zipcode column\n",
    "listings.drop(['zipcode'], axis=1, inplace=True)"
   ]
  },
  {
   "cell_type": "code",
   "execution_count": 62,
   "metadata": {},
   "outputs": [
    {
     "data": {
      "text/html": [
       "<div>\n",
       "<style scoped>\n",
       "    .dataframe tbody tr th:only-of-type {\n",
       "        vertical-align: middle;\n",
       "    }\n",
       "\n",
       "    .dataframe tbody tr th {\n",
       "        vertical-align: top;\n",
       "    }\n",
       "\n",
       "    .dataframe thead th {\n",
       "        text-align: right;\n",
       "    }\n",
       "</style>\n",
       "<table border=\"1\" class=\"dataframe\">\n",
       "  <thead>\n",
       "    <tr style=\"text-align: right;\">\n",
       "      <th></th>\n",
       "      <th>type</th>\n",
       "      <th>price</th>\n",
       "      <th>bedrooms</th>\n",
       "      <th>bathrooms</th>\n",
       "      <th>sqft</th>\n",
       "      <th>street</th>\n",
       "      <th>city</th>\n",
       "      <th>island</th>\n",
       "    </tr>\n",
       "  </thead>\n",
       "  <tbody>\n",
       "    <tr>\n",
       "      <th>0</th>\n",
       "      <td>Condo</td>\n",
       "      <td>199000.0</td>\n",
       "      <td>2.0</td>\n",
       "      <td>2.0</td>\n",
       "      <td>large</td>\n",
       "      <td>Victoria St</td>\n",
       "      <td>Honolulu</td>\n",
       "      <td>Oahu</td>\n",
       "    </tr>\n",
       "    <tr>\n",
       "      <th>1</th>\n",
       "      <td>Condo</td>\n",
       "      <td>39900.0</td>\n",
       "      <td>2.0</td>\n",
       "      <td>2.0</td>\n",
       "      <td>large</td>\n",
       "      <td>Kahala Ave</td>\n",
       "      <td>Honolulu</td>\n",
       "      <td>Oahu</td>\n",
       "    </tr>\n",
       "    <tr>\n",
       "      <th>2</th>\n",
       "      <td>House</td>\n",
       "      <td>6995000.0</td>\n",
       "      <td>7.0</td>\n",
       "      <td>6.0</td>\n",
       "      <td>very large</td>\n",
       "      <td>Kalanianaole Hwy</td>\n",
       "      <td>Honolulu</td>\n",
       "      <td>Oahu</td>\n",
       "    </tr>\n",
       "    <tr>\n",
       "      <th>3</th>\n",
       "      <td>House</td>\n",
       "      <td>2400000.0</td>\n",
       "      <td>4.0</td>\n",
       "      <td>4.0</td>\n",
       "      <td>very large</td>\n",
       "      <td>Koko Kai Pl</td>\n",
       "      <td>Honolulu</td>\n",
       "      <td>Oahu</td>\n",
       "    </tr>\n",
       "    <tr>\n",
       "      <th>4</th>\n",
       "      <td>Condo</td>\n",
       "      <td>265000.0</td>\n",
       "      <td>2.0</td>\n",
       "      <td>3.0</td>\n",
       "      <td>large</td>\n",
       "      <td>Victoria St</td>\n",
       "      <td>Honolulu</td>\n",
       "      <td>Oahu</td>\n",
       "    </tr>\n",
       "  </tbody>\n",
       "</table>\n",
       "</div>"
      ],
      "text/plain": [
       "    type      price  bedrooms  bathrooms        sqft            street  \\\n",
       "0  Condo   199000.0       2.0        2.0       large       Victoria St   \n",
       "1  Condo    39900.0       2.0        2.0       large        Kahala Ave   \n",
       "2  House  6995000.0       7.0        6.0  very large  Kalanianaole Hwy   \n",
       "3  House  2400000.0       4.0        4.0  very large       Koko Kai Pl   \n",
       "4  Condo   265000.0       2.0        3.0       large       Victoria St   \n",
       "\n",
       "       city island  \n",
       "0  Honolulu   Oahu  \n",
       "1  Honolulu   Oahu  \n",
       "2  Honolulu   Oahu  \n",
       "3  Honolulu   Oahu  \n",
       "4  Honolulu   Oahu  "
      ]
     },
     "execution_count": 62,
     "metadata": {},
     "output_type": "execute_result"
    }
   ],
   "source": [
    "listings.head()"
   ]
  },
  {
   "cell_type": "markdown",
   "metadata": {},
   "source": [
    "## One-Hot Encoding"
   ]
  },
  {
   "cell_type": "code",
   "execution_count": 63,
   "metadata": {},
   "outputs": [
    {
     "data": {
      "text/html": [
       "<div>\n",
       "<style scoped>\n",
       "    .dataframe tbody tr th:only-of-type {\n",
       "        vertical-align: middle;\n",
       "    }\n",
       "\n",
       "    .dataframe tbody tr th {\n",
       "        vertical-align: top;\n",
       "    }\n",
       "\n",
       "    .dataframe thead th {\n",
       "        text-align: right;\n",
       "    }\n",
       "</style>\n",
       "<table border=\"1\" class=\"dataframe\">\n",
       "  <thead>\n",
       "    <tr style=\"text-align: right;\">\n",
       "      <th></th>\n",
       "      <th>type</th>\n",
       "      <th>price</th>\n",
       "      <th>bedrooms</th>\n",
       "      <th>bathrooms</th>\n",
       "      <th>sqft</th>\n",
       "      <th>street</th>\n",
       "      <th>city</th>\n",
       "      <th>island</th>\n",
       "    </tr>\n",
       "  </thead>\n",
       "  <tbody>\n",
       "    <tr>\n",
       "      <th>0</th>\n",
       "      <td>Condo</td>\n",
       "      <td>199000.0</td>\n",
       "      <td>2.0</td>\n",
       "      <td>2.0</td>\n",
       "      <td>large</td>\n",
       "      <td>Victoria St</td>\n",
       "      <td>Honolulu</td>\n",
       "      <td>Oahu</td>\n",
       "    </tr>\n",
       "    <tr>\n",
       "      <th>1</th>\n",
       "      <td>Condo</td>\n",
       "      <td>39900.0</td>\n",
       "      <td>2.0</td>\n",
       "      <td>2.0</td>\n",
       "      <td>large</td>\n",
       "      <td>Kahala Ave</td>\n",
       "      <td>Honolulu</td>\n",
       "      <td>Oahu</td>\n",
       "    </tr>\n",
       "    <tr>\n",
       "      <th>2</th>\n",
       "      <td>House</td>\n",
       "      <td>6995000.0</td>\n",
       "      <td>7.0</td>\n",
       "      <td>6.0</td>\n",
       "      <td>very large</td>\n",
       "      <td>Kalanianaole Hwy</td>\n",
       "      <td>Honolulu</td>\n",
       "      <td>Oahu</td>\n",
       "    </tr>\n",
       "    <tr>\n",
       "      <th>3</th>\n",
       "      <td>House</td>\n",
       "      <td>2400000.0</td>\n",
       "      <td>4.0</td>\n",
       "      <td>4.0</td>\n",
       "      <td>very large</td>\n",
       "      <td>Koko Kai Pl</td>\n",
       "      <td>Honolulu</td>\n",
       "      <td>Oahu</td>\n",
       "    </tr>\n",
       "    <tr>\n",
       "      <th>4</th>\n",
       "      <td>Condo</td>\n",
       "      <td>265000.0</td>\n",
       "      <td>2.0</td>\n",
       "      <td>3.0</td>\n",
       "      <td>large</td>\n",
       "      <td>Victoria St</td>\n",
       "      <td>Honolulu</td>\n",
       "      <td>Oahu</td>\n",
       "    </tr>\n",
       "  </tbody>\n",
       "</table>\n",
       "</div>"
      ],
      "text/plain": [
       "    type      price  bedrooms  bathrooms        sqft            street  \\\n",
       "0  Condo   199000.0       2.0        2.0       large       Victoria St   \n",
       "1  Condo    39900.0       2.0        2.0       large        Kahala Ave   \n",
       "2  House  6995000.0       7.0        6.0  very large  Kalanianaole Hwy   \n",
       "3  House  2400000.0       4.0        4.0  very large       Koko Kai Pl   \n",
       "4  Condo   265000.0       2.0        3.0       large       Victoria St   \n",
       "\n",
       "       city island  \n",
       "0  Honolulu   Oahu  \n",
       "1  Honolulu   Oahu  \n",
       "2  Honolulu   Oahu  \n",
       "3  Honolulu   Oahu  \n",
       "4  Honolulu   Oahu  "
      ]
     },
     "execution_count": 63,
     "metadata": {},
     "output_type": "execute_result"
    }
   ],
   "source": [
    "listings.head()"
   ]
  },
  {
   "cell_type": "code",
   "execution_count": 64,
   "metadata": {},
   "outputs": [],
   "source": [
    "# create dummy variables for 'type', 'street', 'city', and 'island'\n",
    "dummy_cols = listings.select_dtypes(include=['object']).columns\n",
    "\n",
    "listings = pd.get_dummies(listings, columns=dummy_cols)"
   ]
  },
  {
   "cell_type": "code",
   "execution_count": 65,
   "metadata": {},
   "outputs": [
    {
     "data": {
      "text/html": [
       "<div>\n",
       "<style scoped>\n",
       "    .dataframe tbody tr th:only-of-type {\n",
       "        vertical-align: middle;\n",
       "    }\n",
       "\n",
       "    .dataframe tbody tr th {\n",
       "        vertical-align: top;\n",
       "    }\n",
       "\n",
       "    .dataframe thead th {\n",
       "        text-align: right;\n",
       "    }\n",
       "</style>\n",
       "<table border=\"1\" class=\"dataframe\">\n",
       "  <thead>\n",
       "    <tr style=\"text-align: right;\">\n",
       "      <th></th>\n",
       "      <th>price</th>\n",
       "      <th>bedrooms</th>\n",
       "      <th>bathrooms</th>\n",
       "      <th>type_Condo</th>\n",
       "      <th>type_House</th>\n",
       "      <th>type_Studio</th>\n",
       "      <th>type_Townhouse</th>\n",
       "      <th>sqft_large</th>\n",
       "      <th>sqft_medium</th>\n",
       "      <th>sqft_small</th>\n",
       "      <th>...</th>\n",
       "      <th>city_Waikoloa</th>\n",
       "      <th>city_Wailea</th>\n",
       "      <th>city_Wailuku</th>\n",
       "      <th>city_Waimanalo</th>\n",
       "      <th>city_Waimea</th>\n",
       "      <th>city_Waipahu</th>\n",
       "      <th>island_Hawaii</th>\n",
       "      <th>island_Kauai</th>\n",
       "      <th>island_Maui</th>\n",
       "      <th>island_Oahu</th>\n",
       "    </tr>\n",
       "  </thead>\n",
       "  <tbody>\n",
       "    <tr>\n",
       "      <th>0</th>\n",
       "      <td>199000.0</td>\n",
       "      <td>2.0</td>\n",
       "      <td>2.0</td>\n",
       "      <td>1</td>\n",
       "      <td>0</td>\n",
       "      <td>0</td>\n",
       "      <td>0</td>\n",
       "      <td>1</td>\n",
       "      <td>0</td>\n",
       "      <td>0</td>\n",
       "      <td>...</td>\n",
       "      <td>0</td>\n",
       "      <td>0</td>\n",
       "      <td>0</td>\n",
       "      <td>0</td>\n",
       "      <td>0</td>\n",
       "      <td>0</td>\n",
       "      <td>0</td>\n",
       "      <td>0</td>\n",
       "      <td>0</td>\n",
       "      <td>1</td>\n",
       "    </tr>\n",
       "    <tr>\n",
       "      <th>1</th>\n",
       "      <td>39900.0</td>\n",
       "      <td>2.0</td>\n",
       "      <td>2.0</td>\n",
       "      <td>1</td>\n",
       "      <td>0</td>\n",
       "      <td>0</td>\n",
       "      <td>0</td>\n",
       "      <td>1</td>\n",
       "      <td>0</td>\n",
       "      <td>0</td>\n",
       "      <td>...</td>\n",
       "      <td>0</td>\n",
       "      <td>0</td>\n",
       "      <td>0</td>\n",
       "      <td>0</td>\n",
       "      <td>0</td>\n",
       "      <td>0</td>\n",
       "      <td>0</td>\n",
       "      <td>0</td>\n",
       "      <td>0</td>\n",
       "      <td>1</td>\n",
       "    </tr>\n",
       "    <tr>\n",
       "      <th>2</th>\n",
       "      <td>6995000.0</td>\n",
       "      <td>7.0</td>\n",
       "      <td>6.0</td>\n",
       "      <td>0</td>\n",
       "      <td>1</td>\n",
       "      <td>0</td>\n",
       "      <td>0</td>\n",
       "      <td>0</td>\n",
       "      <td>0</td>\n",
       "      <td>0</td>\n",
       "      <td>...</td>\n",
       "      <td>0</td>\n",
       "      <td>0</td>\n",
       "      <td>0</td>\n",
       "      <td>0</td>\n",
       "      <td>0</td>\n",
       "      <td>0</td>\n",
       "      <td>0</td>\n",
       "      <td>0</td>\n",
       "      <td>0</td>\n",
       "      <td>1</td>\n",
       "    </tr>\n",
       "    <tr>\n",
       "      <th>3</th>\n",
       "      <td>2400000.0</td>\n",
       "      <td>4.0</td>\n",
       "      <td>4.0</td>\n",
       "      <td>0</td>\n",
       "      <td>1</td>\n",
       "      <td>0</td>\n",
       "      <td>0</td>\n",
       "      <td>0</td>\n",
       "      <td>0</td>\n",
       "      <td>0</td>\n",
       "      <td>...</td>\n",
       "      <td>0</td>\n",
       "      <td>0</td>\n",
       "      <td>0</td>\n",
       "      <td>0</td>\n",
       "      <td>0</td>\n",
       "      <td>0</td>\n",
       "      <td>0</td>\n",
       "      <td>0</td>\n",
       "      <td>0</td>\n",
       "      <td>1</td>\n",
       "    </tr>\n",
       "    <tr>\n",
       "      <th>4</th>\n",
       "      <td>265000.0</td>\n",
       "      <td>2.0</td>\n",
       "      <td>3.0</td>\n",
       "      <td>1</td>\n",
       "      <td>0</td>\n",
       "      <td>0</td>\n",
       "      <td>0</td>\n",
       "      <td>1</td>\n",
       "      <td>0</td>\n",
       "      <td>0</td>\n",
       "      <td>...</td>\n",
       "      <td>0</td>\n",
       "      <td>0</td>\n",
       "      <td>0</td>\n",
       "      <td>0</td>\n",
       "      <td>0</td>\n",
       "      <td>0</td>\n",
       "      <td>0</td>\n",
       "      <td>0</td>\n",
       "      <td>0</td>\n",
       "      <td>1</td>\n",
       "    </tr>\n",
       "  </tbody>\n",
       "</table>\n",
       "<p>5 rows × 1634 columns</p>\n",
       "</div>"
      ],
      "text/plain": [
       "       price  bedrooms  bathrooms  type_Condo  type_House  type_Studio  \\\n",
       "0   199000.0       2.0        2.0           1           0            0   \n",
       "1    39900.0       2.0        2.0           1           0            0   \n",
       "2  6995000.0       7.0        6.0           0           1            0   \n",
       "3  2400000.0       4.0        4.0           0           1            0   \n",
       "4   265000.0       2.0        3.0           1           0            0   \n",
       "\n",
       "   type_Townhouse  sqft_large  sqft_medium  sqft_small  ...  city_Waikoloa  \\\n",
       "0               0           1            0           0  ...              0   \n",
       "1               0           1            0           0  ...              0   \n",
       "2               0           0            0           0  ...              0   \n",
       "3               0           0            0           0  ...              0   \n",
       "4               0           1            0           0  ...              0   \n",
       "\n",
       "   city_Wailea  city_Wailuku  city_Waimanalo  city_Waimea  city_Waipahu  \\\n",
       "0            0             0               0            0             0   \n",
       "1            0             0               0            0             0   \n",
       "2            0             0               0            0             0   \n",
       "3            0             0               0            0             0   \n",
       "4            0             0               0            0             0   \n",
       "\n",
       "   island_Hawaii  island_Kauai  island_Maui  island_Oahu  \n",
       "0              0             0            0            1  \n",
       "1              0             0            0            1  \n",
       "2              0             0            0            1  \n",
       "3              0             0            0            1  \n",
       "4              0             0            0            1  \n",
       "\n",
       "[5 rows x 1634 columns]"
      ]
     },
     "execution_count": 65,
     "metadata": {},
     "output_type": "execute_result"
    }
   ],
   "source": [
    "listings.head()"
   ]
  },
  {
   "cell_type": "markdown",
   "metadata": {},
   "source": [
    "## Scaling the Numerical Data"
   ]
  },
  {
   "cell_type": "code",
   "execution_count": 66,
   "metadata": {},
   "outputs": [],
   "source": [
    "mms = MinMaxScaler()\n",
    "num_feats = listings.select_dtypes(include=['float', 'int']).columns\n",
    "\n",
    "listings[num_feats] = mms.fit_transform(listings[num_feats])"
   ]
  },
  {
   "cell_type": "code",
   "execution_count": 67,
   "metadata": {},
   "outputs": [
    {
     "data": {
      "text/html": [
       "<div>\n",
       "<style scoped>\n",
       "    .dataframe tbody tr th:only-of-type {\n",
       "        vertical-align: middle;\n",
       "    }\n",
       "\n",
       "    .dataframe tbody tr th {\n",
       "        vertical-align: top;\n",
       "    }\n",
       "\n",
       "    .dataframe thead th {\n",
       "        text-align: right;\n",
       "    }\n",
       "</style>\n",
       "<table border=\"1\" class=\"dataframe\">\n",
       "  <thead>\n",
       "    <tr style=\"text-align: right;\">\n",
       "      <th></th>\n",
       "      <th>price</th>\n",
       "      <th>bedrooms</th>\n",
       "      <th>bathrooms</th>\n",
       "      <th>type_Condo</th>\n",
       "      <th>type_House</th>\n",
       "      <th>type_Studio</th>\n",
       "      <th>type_Townhouse</th>\n",
       "      <th>sqft_large</th>\n",
       "      <th>sqft_medium</th>\n",
       "      <th>sqft_small</th>\n",
       "      <th>...</th>\n",
       "      <th>city_Waikoloa</th>\n",
       "      <th>city_Wailea</th>\n",
       "      <th>city_Wailuku</th>\n",
       "      <th>city_Waimanalo</th>\n",
       "      <th>city_Waimea</th>\n",
       "      <th>city_Waipahu</th>\n",
       "      <th>island_Hawaii</th>\n",
       "      <th>island_Kauai</th>\n",
       "      <th>island_Maui</th>\n",
       "      <th>island_Oahu</th>\n",
       "    </tr>\n",
       "  </thead>\n",
       "  <tbody>\n",
       "    <tr>\n",
       "      <th>0</th>\n",
       "      <td>0.004024</td>\n",
       "      <td>0.021739</td>\n",
       "      <td>0.058824</td>\n",
       "      <td>1</td>\n",
       "      <td>0</td>\n",
       "      <td>0</td>\n",
       "      <td>0</td>\n",
       "      <td>1</td>\n",
       "      <td>0</td>\n",
       "      <td>0</td>\n",
       "      <td>...</td>\n",
       "      <td>0</td>\n",
       "      <td>0</td>\n",
       "      <td>0</td>\n",
       "      <td>0</td>\n",
       "      <td>0</td>\n",
       "      <td>0</td>\n",
       "      <td>0</td>\n",
       "      <td>0</td>\n",
       "      <td>0</td>\n",
       "      <td>1</td>\n",
       "    </tr>\n",
       "    <tr>\n",
       "      <th>1</th>\n",
       "      <td>0.000487</td>\n",
       "      <td>0.021739</td>\n",
       "      <td>0.058824</td>\n",
       "      <td>1</td>\n",
       "      <td>0</td>\n",
       "      <td>0</td>\n",
       "      <td>0</td>\n",
       "      <td>1</td>\n",
       "      <td>0</td>\n",
       "      <td>0</td>\n",
       "      <td>...</td>\n",
       "      <td>0</td>\n",
       "      <td>0</td>\n",
       "      <td>0</td>\n",
       "      <td>0</td>\n",
       "      <td>0</td>\n",
       "      <td>0</td>\n",
       "      <td>0</td>\n",
       "      <td>0</td>\n",
       "      <td>0</td>\n",
       "      <td>1</td>\n",
       "    </tr>\n",
       "    <tr>\n",
       "      <th>2</th>\n",
       "      <td>0.155106</td>\n",
       "      <td>0.130435</td>\n",
       "      <td>0.294118</td>\n",
       "      <td>0</td>\n",
       "      <td>1</td>\n",
       "      <td>0</td>\n",
       "      <td>0</td>\n",
       "      <td>0</td>\n",
       "      <td>0</td>\n",
       "      <td>0</td>\n",
       "      <td>...</td>\n",
       "      <td>0</td>\n",
       "      <td>0</td>\n",
       "      <td>0</td>\n",
       "      <td>0</td>\n",
       "      <td>0</td>\n",
       "      <td>0</td>\n",
       "      <td>0</td>\n",
       "      <td>0</td>\n",
       "      <td>0</td>\n",
       "      <td>1</td>\n",
       "    </tr>\n",
       "    <tr>\n",
       "      <th>3</th>\n",
       "      <td>0.052955</td>\n",
       "      <td>0.065217</td>\n",
       "      <td>0.176471</td>\n",
       "      <td>0</td>\n",
       "      <td>1</td>\n",
       "      <td>0</td>\n",
       "      <td>0</td>\n",
       "      <td>0</td>\n",
       "      <td>0</td>\n",
       "      <td>0</td>\n",
       "      <td>...</td>\n",
       "      <td>0</td>\n",
       "      <td>0</td>\n",
       "      <td>0</td>\n",
       "      <td>0</td>\n",
       "      <td>0</td>\n",
       "      <td>0</td>\n",
       "      <td>0</td>\n",
       "      <td>0</td>\n",
       "      <td>0</td>\n",
       "      <td>1</td>\n",
       "    </tr>\n",
       "    <tr>\n",
       "      <th>4</th>\n",
       "      <td>0.005491</td>\n",
       "      <td>0.021739</td>\n",
       "      <td>0.117647</td>\n",
       "      <td>1</td>\n",
       "      <td>0</td>\n",
       "      <td>0</td>\n",
       "      <td>0</td>\n",
       "      <td>1</td>\n",
       "      <td>0</td>\n",
       "      <td>0</td>\n",
       "      <td>...</td>\n",
       "      <td>0</td>\n",
       "      <td>0</td>\n",
       "      <td>0</td>\n",
       "      <td>0</td>\n",
       "      <td>0</td>\n",
       "      <td>0</td>\n",
       "      <td>0</td>\n",
       "      <td>0</td>\n",
       "      <td>0</td>\n",
       "      <td>1</td>\n",
       "    </tr>\n",
       "  </tbody>\n",
       "</table>\n",
       "<p>5 rows × 1634 columns</p>\n",
       "</div>"
      ],
      "text/plain": [
       "      price  bedrooms  bathrooms  type_Condo  type_House  type_Studio  \\\n",
       "0  0.004024  0.021739   0.058824           1           0            0   \n",
       "1  0.000487  0.021739   0.058824           1           0            0   \n",
       "2  0.155106  0.130435   0.294118           0           1            0   \n",
       "3  0.052955  0.065217   0.176471           0           1            0   \n",
       "4  0.005491  0.021739   0.117647           1           0            0   \n",
       "\n",
       "   type_Townhouse  sqft_large  sqft_medium  sqft_small  ...  city_Waikoloa  \\\n",
       "0               0           1            0           0  ...              0   \n",
       "1               0           1            0           0  ...              0   \n",
       "2               0           0            0           0  ...              0   \n",
       "3               0           0            0           0  ...              0   \n",
       "4               0           1            0           0  ...              0   \n",
       "\n",
       "   city_Wailea  city_Wailuku  city_Waimanalo  city_Waimea  city_Waipahu  \\\n",
       "0            0             0               0            0             0   \n",
       "1            0             0               0            0             0   \n",
       "2            0             0               0            0             0   \n",
       "3            0             0               0            0             0   \n",
       "4            0             0               0            0             0   \n",
       "\n",
       "   island_Hawaii  island_Kauai  island_Maui  island_Oahu  \n",
       "0              0             0            0            1  \n",
       "1              0             0            0            1  \n",
       "2              0             0            0            1  \n",
       "3              0             0            0            1  \n",
       "4              0             0            0            1  \n",
       "\n",
       "[5 rows x 1634 columns]"
      ]
     },
     "execution_count": 67,
     "metadata": {},
     "output_type": "execute_result"
    }
   ],
   "source": [
    "listings.head()"
   ]
  },
  {
   "cell_type": "markdown",
   "metadata": {},
   "source": [
    "## ML Modeling"
   ]
  },
  {
   "cell_type": "code",
   "execution_count": 68,
   "metadata": {},
   "outputs": [],
   "source": [
    "feats = listings.columns.drop('price')\n",
    "train, test = train_test_split(listings, test_size=0.2, random_state=2)"
   ]
  },
  {
   "cell_type": "code",
   "execution_count": 69,
   "metadata": {},
   "outputs": [
    {
     "name": "stdout",
     "output_type": "stream",
     "text": [
      "0.7290109569137386\n"
     ]
    }
   ],
   "source": [
    "rf = RandomForestRegressor()\n",
    "rf.fit(train[feats], train['price'])\n",
    "predictions = rf.predict(test[feats])\n",
    "r2 = r2_score(test['price'], predictions)\n",
    "\n",
    "print(r2)"
   ]
  },
  {
   "cell_type": "code",
   "execution_count": 70,
   "metadata": {},
   "outputs": [
    {
     "name": "stdout",
     "output_type": "stream",
     "text": [
      "0.7290109569137386\n"
     ]
    }
   ],
   "source": [
    "dt = DecisionTreeRegressor()\n",
    "dt.fit(train[feats], train['price'])\n",
    "preditions = dt.predict(test[feats])\n",
    "r2 = r2_score(test['price'], predictions)\n",
    "\n",
    "print(r2)"
   ]
  },
  {
   "cell_type": "code",
   "execution_count": 71,
   "metadata": {},
   "outputs": [
    {
     "name": "stdout",
     "output_type": "stream",
     "text": [
      "0.6797590329405587\n"
     ]
    }
   ],
   "source": [
    "bag = BaggingRegressor()\n",
    "bag.fit(train[feats], train['price'])\n",
    "predictions = bag.predict(test[feats])\n",
    "r2 = r2_score(test['price'], predictions)\n",
    "\n",
    "print(r2)"
   ]
  },
  {
   "cell_type": "code",
   "execution_count": 72,
   "metadata": {},
   "outputs": [
    {
     "name": "stdout",
     "output_type": "stream",
     "text": [
      "0.6774672266506659\n"
     ]
    }
   ],
   "source": [
    "gradboost = GradientBoostingRegressor()\n",
    "gradboost.fit(train[feats], train['price'])\n",
    "predictions = gradboost.predict(test[feats])\n",
    "r2 = r2_score(test['price'], predictions)\n",
    "\n",
    "print(r2)"
   ]
  },
  {
   "cell_type": "markdown",
   "metadata": {},
   "source": [
    "## Conclusion\n",
    "The original data contained only the address, number of bedrooms/bathrooms, and square-footage of each listing. We were able to generate a number of new useful features by splitting and categorizing the available features. The numerical features were scaled using a `MinMaxScaler`, and the `object` features where then transformed to a numerical type via one-hot encoding.\n",
    "\n",
    "Given that we know a property listing's address, size (square-footage), number of bedrooms/bathrooms, and type (house, condo, townhouse, or studio), we can predict its price to a certain degree. Using a Random Forest Regressor or a Decision Tree Regressor most consistently produced the most accurate predictions, with an $R^2$ score ranging between 0.70 and 0.75. \n",
    "\n",
    "### Further Steps\n",
    "* The price predictions can be improved by performing some hyperparameter tuning. \n",
    "* The models developed in this project can be transferred to a Python program or web application that would allow a user to input the features of a listing of their choice and get a predicted price for that listing."
   ]
  }
 ],
 "metadata": {
  "kernelspec": {
   "display_name": "Python 3",
   "language": "python",
   "name": "python3"
  },
  "language_info": {
   "codemirror_mode": {
    "name": "ipython",
    "version": 3
   },
   "file_extension": ".py",
   "mimetype": "text/x-python",
   "name": "python",
   "nbconvert_exporter": "python",
   "pygments_lexer": "ipython3",
   "version": "3.7.1"
  }
 },
 "nbformat": 4,
 "nbformat_minor": 2
}
